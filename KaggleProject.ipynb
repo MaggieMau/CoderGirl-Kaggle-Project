{
 "cells": [
  {
   "cell_type": "markdown",
   "metadata": {},
   "source": [
    "----------\n",
    "**Kaggle Mini-Project I: Exploratory Data Analysis**\n",
    "=====================================\n",
    "\n",
    "Maggie Maurer\n",
    "\n",
    "CoderGirl, DataScience Cohort\n",
    "\n",
    "July 2019\n",
    "\n",
    "----------"
   ]
  },
  {
   "cell_type": "markdown",
   "metadata": {},
   "source": [
    "- <a href='#1'>1. Libraries and Data</a>  \n",
    "    - <a href='#1.1'>1.1. Loding Libraries</a> \n",
    "    - <a href='#1.2'>1.2. Reading Data</a>\n",
    "- <a href='#2'>2. Clean the DataFrame</a>  \n",
    "    - <a href='#2.1'>2.1. Assess and Remove NaN Values</a> \n",
    "    - <a href='#2.2'>2.2. Assess and Remove Duplicates</a>    \n",
    "- <a href='#3'>3. Describe the DataFrame</a>  \n",
    "    - <a href='#3.1'>3.1. Dataframe Dimensions</a> \n",
    "    - <a href='#3.2'>3.2. Improve Dataframe Descriptors</a> \n",
    "    - <a href='#3.3'>3.3. Feature Directory</a>\n",
    "- <a href='#4'>4. Data Preprocesing</a>  \n",
    "    - <a href='#4.1'>4.1. Assess and Remove Outleirs</a> \n",
    "    - <a href='#4.2'>4.2. Examine Potentially Erroneous Values</a> \n",
    "    - <a href='#4.3'>4.3. Feature Directory</a>\n",
    "- <a href='#5'>5. Exploratory Data Analysis</a>\n",
    "    - <a href='#5.1'>5.1. Overall Correlation Analysis</a> \n",
    "    - <a href='#5.2'>5.2. Feature Specific Analysis</a>"
   ]
  },
  {
   "cell_type": "markdown",
   "metadata": {},
   "source": [
    "# <a id='1'>1. Librairies and Data</a> "
   ]
  },
  {
   "cell_type": "markdown",
   "metadata": {},
   "source": [
    "## <a id='#1.1'>1.1. Loding Libraries</a> "
   ]
  },
  {
   "cell_type": "code",
   "execution_count": null,
   "metadata": {},
   "outputs": [],
   "source": [
    "import numpy as np\n",
    "import pandas as pd\n",
    "from pandas import Series,DataFrame\n",
    "import matplotlib.pyplot as plt\n",
    "import seaborn as sns\n",
    "from scipy import stats\n",
    "import statistics as st\n",
    "import seaborn as sns\n",
    "import warnings\n",
    "import matplotlib\n",
    "sns.set(color_codes=True)\n",
    "%matplotlib inline"
   ]
  },
  {
   "cell_type": "markdown",
   "metadata": {},
   "source": [
    "## <a id='#1.2'>1.2. Reading Data</a> "
   ]
  },
  {
   "cell_type": "code",
   "execution_count": null,
   "metadata": {},
   "outputs": [],
   "source": [
    "#Read file and import as varible 'heart1'.\n",
    "heart = pd.read_csv('../input/heart.csv')\n"
   ]
  },
  {
   "cell_type": "markdown",
   "metadata": {},
   "source": [
    "# <a id='#2'>2. Clean the DataFrame</a> "
   ]
  },
  {
   "cell_type": "markdown",
   "metadata": {},
   "source": [
    "## <a id='#2.1'>2.1. Assess and Remove NaN Values</a> "
   ]
  },
  {
   "cell_type": "code",
   "execution_count": null,
   "metadata": {},
   "outputs": [],
   "source": [
    "heart.isnull().sum()"
   ]
  },
  {
   "cell_type": "markdown",
   "metadata": {},
   "source": [
    "There are no NaN values"
   ]
  },
  {
   "cell_type": "markdown",
   "metadata": {},
   "source": [
    "## <a id='#2.2'>2.2. Assess and Remove Duplicates</a> "
   ]
  },
  {
   "cell_type": "code",
   "execution_count": null,
   "metadata": {},
   "outputs": [],
   "source": [
    "Duplicated=heart.duplicated()\n",
    "Duplicated2=pd.Series.to_frame(Duplicated)\n",
    "Duplicated2.head()\n",
    "print(Duplicated2.loc[Duplicated2.loc[:,0]==True])\n",
    "heart.loc[164, :]"
   ]
  },
  {
   "cell_type": "markdown",
   "metadata": {},
   "source": [
    "As we can see, there is one duplicated row- row 164. Let's see what that is and what row it is a duplicate of."
   ]
  },
  {
   "cell_type": "code",
   "execution_count": null,
   "metadata": {},
   "outputs": [],
   "source": [
    "heart.loc[heart.loc[:,'chol']==175.0]"
   ]
  },
  {
   "cell_type": "markdown",
   "metadata": {},
   "source": [
    "I am going to assume that line 164 is invalid. I am assuming this (as opposed to them being the records of two patients with exactly the same patient details) is for two reasons: \n",
    "1. The duplicates are two lines next to each other \n",
    "2. There are 14 features, which reduces the liklihood of them belonging to two seperate patients\n",
    "\n",
    "Since I have determined the duplicates are most likely due to data input error, I am going to remove the duplicated row."
   ]
  },
  {
   "cell_type": "code",
   "execution_count": null,
   "metadata": {},
   "outputs": [],
   "source": [
    "heart2= heart.drop(heart.index[164])"
   ]
  },
  {
   "cell_type": "markdown",
   "metadata": {},
   "source": [
    "# <a id='#3'>3. Describe the DataFrame</a>"
   ]
  },
  {
   "cell_type": "markdown",
   "metadata": {},
   "source": [
    "## <a id='#3.1'>3.1. Dataframe Description and Dimensions</a> \n",
    "\n",
    "This dataset contains many health and medical indicators, such as systolic blood pressure and serum cholesteral levels.  \n",
    "\n",
    "The goal of this project is to create a predictive model of Heart Disease (HD) based on the features in this dataset."
   ]
  },
  {
   "cell_type": "code",
   "execution_count": null,
   "metadata": {},
   "outputs": [],
   "source": [
    "print(\"The DataFrame has\", heart.shape[0], \"rows and\", heart.shape[1], \"columns.\")"
   ]
  },
  {
   "cell_type": "markdown",
   "metadata": {},
   "source": [
    "## <a id='#3.2'>3.2. Improve Dataframe Descriptors</a> "
   ]
  },
  {
   "cell_type": "code",
   "execution_count": null,
   "metadata": {},
   "outputs": [],
   "source": [
    "heart2.columns"
   ]
  },
  {
   "cell_type": "markdown",
   "metadata": {},
   "source": [
    "These names are not particularily descriptive, so I am going to change them."
   ]
  },
  {
   "cell_type": "code",
   "execution_count": null,
   "metadata": {},
   "outputs": [],
   "source": [
    "heart2.columns=['age', 'sex', 'cpain','resting_BP', 'chol', 'fasting_BS', 'resting_EKG', \n",
    "                'max_HR', 'exercise_ANG', 'ST_depression', 'm_exercise_ST', 'no_maj_vessels', 'thal', 'target']"
   ]
  },
  {
   "cell_type": "markdown",
   "metadata": {},
   "source": [
    "I do not like how numbers represent different subsets of features (1 for Typical Angina Pain, for example). However, many Machiene Learning Algorithms require discrete values to be integers or floats. \n",
    "\n",
    "So, I am going to keep (and update) two dataframes, not with the numeric values and one with descriptive labels."
   ]
  },
  {
   "cell_type": "code",
   "execution_count": null,
   "metadata": {},
   "outputs": [],
   "source": [
    "heart2.head()\n",
    "heart3=pd.DataFrame.copy(heart2)\n",
    "heart3['sex']=heart3['sex'].replace([1, 0], ['Male', 'Female'])\n",
    "heart3['cpain']=heart3['cpain'].replace([0, 1, 2, 3], ['Asymptomatic', 'Typical Angina', 'Atypical Angina', 'Non-Angina'])\n",
    "heart3['fasting_BS']=heart3['fasting_BS'].replace([1, 0], ['BS > 120 mg/dl', 'BS < 120 mg/dl'])\n",
    "heart3['resting_EKG']=heart3['resting_EKG'].replace([0, 1, 2], ['Normal', 'Left Ventricular Hypertrophy', 'ST-T Wave Abnormality'])\n",
    "heart3['exercise_ANG']=heart3['exercise_ANG'].replace([0, 1], ['Absent', 'Present'])\n",
    "heart3['m_exercise_ST']=heart3['m_exercise_ST'].replace([0, 1, 2], ['Upsloping', 'Flat', 'Downsloping'])\n",
    "heart3['thal']=heart3['thal'].replace([1, 2, 3], ['Fixed Defect', 'Normal', 'Reversible Defect'])\n",
    "heart3['target']=heart3['target'].replace([0, 1], ['Absent', 'Present'])"
   ]
  },
  {
   "cell_type": "markdown",
   "metadata": {},
   "source": [
    "## <a id='#3.3'>3.3. Feature Directory</a> "
   ]
  },
  {
   "cell_type": "markdown",
   "metadata": {},
   "source": [
    "### <a id=''>1. 'age':  Age (years) </a> \n",
    "   * Datatype: non-null int64\n",
    "   * Min: 29.0\n",
    "   * Max: 77.0\n",
    "   * Mean: 54.4\n",
    "   * Median: 55.5\n",
    "   * Mode: 58.0   "
   ]
  },
  {
   "cell_type": "code",
   "execution_count": null,
   "metadata": {
    "_kg_hide-input": true
   },
   "outputs": [],
   "source": [
    "warnings.filterwarnings('ignore')\n",
    "ax1 = sns.distplot(heart2['age'], kde=False, color='blueviolet')\n",
    "ax1.set_xlabel(\"Age (yrs)\", fontsize=20)\n",
    "second_ax1 = ax1.twinx()\n",
    "second_ax1.yaxis.set_label_position(\"left\")\n",
    "sns.distplot(heart2['age'], ax=second_ax1, kde=True, hist=False, color='blue')\n",
    "second_ax1.set_yticks([])\n",
    "plt.title(\"Distribution of Age\", size=35)\n",
    "plt.ylabel(\"Frequency\", labelpad=40, size=20)"
   ]
  },
  {
   "cell_type": "markdown",
   "metadata": {},
   "source": [
    "### <a id=''>2. 'sex':  Provider-Identified Gender</a> \n",
    "  \n",
    "   * Datatype: non-null int64   \n",
    "   * 0: Female\n",
    "        * Count: 96        \n",
    "   * 1: Male  \n",
    "        * Count:206"
   ]
  },
  {
   "cell_type": "code",
   "execution_count": null,
   "metadata": {
    "_kg_hide-input": true
   },
   "outputs": [],
   "source": [
    "ax1 = sns.countplot(heart3['sex'], palette=\"BuPu\")\n",
    "plt.title(\"Gender Distribution\", size=30)\n",
    "plt.ylabel(\"Frequency\", labelpad=40, size=20)\n",
    "plt.xlabel(\"Provider-Identified Gender\", labelpad=40, size=20)\n",
    "\n",
    "\n",
    "\n"
   ]
  },
  {
   "cell_type": "markdown",
   "metadata": {},
   "source": [
    "### <a id=''>3. 'cpain': Chest Pain Type</a> \n",
    "   * Datatype: non-null int64\n",
    "   * 0: Asymptomatic Pain\n",
    "        * Count: 143\n",
    "   * 1: Typical Angina Pain\n",
    "        * Count: 50\n",
    "   * 2: Atypical Angina Pain\n",
    "        * Count: 86\n",
    "   * 3: Non-Angina Pain\n",
    "        * Count: 23"
   ]
  },
  {
   "cell_type": "code",
   "execution_count": null,
   "metadata": {
    "_kg_hide-input": true
   },
   "outputs": [],
   "source": [
    "ax1 = sns.countplot(heart3['cpain'], palette=\"BuPu\")\n",
    "plt.title(\"Distribution of Chest Pain Type\", size=30)\n",
    "plt.ylabel(\"Frequency\", labelpad=40, size=20)\n",
    "plt.xlabel(\"Chest Pain Description\", labelpad=40, size=20)\n",
    "\n",
    "\n",
    "\n"
   ]
  },
  {
   "cell_type": "markdown",
   "metadata": {},
   "source": [
    "### <a id=''>4. 'resting_BP': Resting Systolic Blood Pressure (mm Hg) upon Hospital Admission</a> \n",
    "   * Datatype: non-null int64  \n",
    "\n",
    "   * Min: 94.0\n",
    "\n",
    "   * Max: 200.0\n",
    "\n",
    "   * Mean: 131.6\n",
    "\n",
    "   * Median: 130.0\n",
    "\n",
    "   * Mode: 120.0"
   ]
  },
  {
   "cell_type": "code",
   "execution_count": null,
   "metadata": {
    "_kg_hide-input": true
   },
   "outputs": [],
   "source": [
    "warnings.filterwarnings('ignore')\n",
    "ax1 = sns.distplot(heart2['resting_BP'], kde=False, color='blueviolet')\n",
    "ax1.set_xlabel(\"Resing Systolic BP (mm Hg)\", fontsize=20)\n",
    "second_ax1 = ax1.twinx()\n",
    "second_ax1.yaxis.set_label_position(\"left\")\n",
    "sns.distplot(heart2['resting_BP'], ax=second_ax1, kde=True, hist=False, color='blue')\n",
    "second_ax1.set_yticks([])\n",
    "plt.title(\"Distribution of Resting Systolic Blood Pressure\", size=35)\n",
    "plt.ylabel(\"Frequency\", labelpad=40, size=20)"
   ]
  },
  {
   "cell_type": "markdown",
   "metadata": {},
   "source": [
    "### <a id=''>5. 'chol': Serum Cholesterol (mg/dl)</a>\n",
    "   * Datatype: non-null int64  \n",
    "   * Min: 126.0\n",
    "   * Max: 564.0\n",
    "   * Mean: 264.5\n",
    "   * Median: 240.5\n",
    "   * Mode: 197.0, 204.0, 234.0"
   ]
  },
  {
   "cell_type": "code",
   "execution_count": null,
   "metadata": {
    "_kg_hide-input": true
   },
   "outputs": [],
   "source": [
    "warnings.filterwarnings('ignore')\n",
    "ax1 = sns.distplot(heart2['chol'], kde=False, color='blueviolet')\n",
    "ax1.set_xlabel(\"Serum Cholesterol (mg/dl)\", fontsize=20)\n",
    "second_ax1 = ax1.twinx()\n",
    "second_ax1.yaxis.set_label_position(\"left\")\n",
    "sns.distplot(heart2['chol'], ax=second_ax1, kde=True, hist=False, color='blue')\n",
    "second_ax1.set_yticks([])\n",
    "plt.title(\"Distribution of Serum Cholesterol\", size=35)\n",
    "plt.ylabel(\"Frequency\", labelpad=40, size=20)"
   ]
  },
  {
   "cell_type": "markdown",
   "metadata": {},
   "source": [
    "### <a id=''>6. 'fasting_BS': Fasting Blood Sugar (mmol/L)</a>\n",
    "   * Datatype: non-null int64\n",
    "   * 1: greater than 120 mmol/L\n",
    "        * count: 45\n",
    "   * 0: lower than 120 mmol/L\n",
    "        * count: 257"
   ]
  },
  {
   "cell_type": "code",
   "execution_count": null,
   "metadata": {
    "_kg_hide-input": true
   },
   "outputs": [],
   "source": [
    "ax1 = sns.countplot(heart3['fasting_BS'], palette=\"BuPu\")\n",
    "plt.title(\"Fasting Blood Sugar Distribution\", size=30)\n",
    "plt.ylabel(\"Frequency\", labelpad=40, size=20)\n",
    "plt.xlabel(\"Level of Fasting BS (mmol/L)\", labelpad=40, size=20)"
   ]
  },
  {
   "cell_type": "markdown",
   "metadata": {},
   "source": [
    "### <a id=''>7. 'resting_EKG': Resting EKG</a>\n",
    "   * Datatype: non-null int64\n",
    "   * 0: Normal EKG results\n",
    "        * count: 147 \n",
    "   * 1: Showing probable or definite left ventricular hypertrophy by Estes' criteria\n",
    "        * count: 151\n",
    "   * 2: Having ST-T wave abnormality (T wave inversions and/or ST elevation or depression of > 0.05 mV)\n",
    "        * count: 4"
   ]
  },
  {
   "cell_type": "code",
   "execution_count": null,
   "metadata": {
    "_kg_hide-input": true
   },
   "outputs": [],
   "source": [
    "ax1 = sns.countplot(heart3['resting_EKG'], palette=\"BuPu\")\n",
    "plt.title(\"Distribution of Resting EKG Results\", size=30)\n",
    "plt.ylabel(\"Frequency\", labelpad=40, size=20)\n",
    "plt.xlabel(\" \", labelpad=40, size=20)"
   ]
  },
  {
   "cell_type": "markdown",
   "metadata": {},
   "source": [
    "### <a id=''>8. 'max_HR': Maximum Heart Rate Achieved (bpm)</a>\n",
    "   * Datatype: non-null int64  \n",
    "   * Min: 71.0\n",
    "   * Max: 202.0\n",
    "   * Mean: 149.6\n",
    "   * Median: 152.5\n",
    "   * Mode: 162.0"
   ]
  },
  {
   "cell_type": "code",
   "execution_count": null,
   "metadata": {
    "_kg_hide-input": true
   },
   "outputs": [],
   "source": [
    "warnings.filterwarnings('ignore')\n",
    "ax1 = sns.distplot(heart2['max_HR'], kde=False, color='blueviolet')\n",
    "ax1.set_xlabel(\"Maximum HR (bpm)\", fontsize=20)\n",
    "second_ax1 = ax1.twinx()\n",
    "second_ax1.yaxis.set_label_position(\"left\")\n",
    "sns.distplot(heart2['max_HR'], ax=second_ax1, kde=True, hist=False, color='blue')\n",
    "second_ax1.set_yticks([])\n",
    "plt.title(\"Distribution of Maximum Heart Rate\", size=35)\n",
    "plt.ylabel(\"Frequency\", labelpad=40, size=20)"
   ]
  },
  {
   "cell_type": "markdown",
   "metadata": {},
   "source": [
    "### <a id=''>9. 'exercise_ANG': Exercise Induced Angina (EIA)</a>\n",
    "   * Datatype: non-null int64\n",
    "   * 0: no, they did not experience EIA\n",
    "        * count: 203\n",
    "   * 1: yes, they experienced EIA\n",
    "        * count: 99"
   ]
  },
  {
   "cell_type": "code",
   "execution_count": null,
   "metadata": {
    "_kg_hide-input": true
   },
   "outputs": [],
   "source": [
    "ax1 = sns.countplot(heart3['exercise_ANG'], palette=\"BuPu\")\n",
    "plt.title(\"Distribution of Exercise Induced Angina\", size=25)\n",
    "plt.ylabel(\"Frequency\", labelpad=40, size=20)\n",
    "plt.xlabel(\"Exercise Induced Angina\", labelpad=40, size=20)"
   ]
  },
  {
   "cell_type": "markdown",
   "metadata": {},
   "source": [
    "### <a id=''>10. 'ST_depression': ST Depression (mm) Induced by Exercise Relative to Rest</a>\n",
    "   * Datatype: non-null float64 \n",
    "   * Min: 0.0\n",
    "   * Max: 6.2\n",
    "   * Mean: 1.04\n",
    "   * Median: 0.8\n",
    "   * Mode: 0.0"
   ]
  },
  {
   "cell_type": "code",
   "execution_count": null,
   "metadata": {
    "_kg_hide-input": true
   },
   "outputs": [],
   "source": [
    "warnings.filterwarnings('ignore')\n",
    "ax1 = sns.distplot(heart2['ST_depression'], kde=False, color='blueviolet')\n",
    "ax1.set_xlabel(\"ST Depression\", fontsize=20)\n",
    "second_ax1 = ax1.twinx()\n",
    "second_ax1.yaxis.set_label_position(\"left\")\n",
    "sns.distplot(heart2['ST_depression'], ax=second_ax1, kde=True, hist=False, color='blue')\n",
    "second_ax1.set_yticks([])\n",
    "plt.title(\"Distribution of Exercise Induced ST Depression\", size=35)\n",
    "plt.ylabel(\"Frequency\", labelpad=40, size=20)\n",
    "plt.xlim(0,7)"
   ]
  },
  {
   "cell_type": "markdown",
   "metadata": {},
   "source": [
    "### <a id=''>11. 'm_exercise_ST': The Slope of the Peak Exercise ST Segment</a>\n",
    "   * Datatype: non-null int64\n",
    "   * 0: upsloping\n",
    "        * count: 21\n",
    "   * 1: flat\n",
    "        * count: 140\n",
    "   * 2: downsloping\n",
    "        * count: 141"
   ]
  },
  {
   "cell_type": "code",
   "execution_count": null,
   "metadata": {
    "_kg_hide-input": true
   },
   "outputs": [],
   "source": [
    "ax1 = sns.countplot(heart3['m_exercise_ST'], palette=\"BuPu\")\n",
    "plt.title(\"Distribution of the ST Segment Slope\", size=30)\n",
    "plt.ylabel(\"Frequency\", labelpad=40, size=20)\n",
    "plt.xlabel(\"Slope  (Peak Exercise)\", labelpad=40, size=20)"
   ]
  },
  {
   "cell_type": "markdown",
   "metadata": {},
   "source": [
    "### <a id=''>12. 'no_maj_vessels': Number of Major Vessels (0-3) Colored by Flourosopy</a>\n",
    "   * Datatype: non-null int64\n",
    "   * Counts:\n",
    "        * 0: 175\n",
    "        * 1: 65\n",
    "        * 2: 38\n",
    "        * 3: 20\n",
    "        * 4: 4"
   ]
  },
  {
   "cell_type": "code",
   "execution_count": null,
   "metadata": {
    "_kg_hide-input": true
   },
   "outputs": [],
   "source": [
    "ax1 = sns.countplot(heart3['no_maj_vessels'], palette=\"BuPu\")\n",
    "plt.title(\"No. of Major Vessels Colored by Flouroscopy\", size=30)\n",
    "plt.ylabel(\"Frequency\", labelpad=40, size=20)\n",
    "plt.xlabel(\"Number of Major Vessels\", labelpad=40, size=20)"
   ]
  },
  {
   "cell_type": "markdown",
   "metadata": {},
   "source": [
    "### <a id=''>13. 'thal': Thalium Stress Test Result</a>\n",
    "   * Datatype: non-null int64\n",
    "   * 0: Unspecified, will attend to in further data cleaning\n",
    "        * count: 2\n",
    "   * 1: fixed defect\n",
    "        * count: 18\n",
    "   * 2: normal\n",
    "        * count: 165\n",
    "   * 3: reversible defect\n",
    "        * count: 117"
   ]
  },
  {
   "cell_type": "code",
   "execution_count": null,
   "metadata": {
    "_kg_hide-input": true
   },
   "outputs": [],
   "source": [
    "ax1 = sns.countplot(heart3['thal'], palette=\"BuPu\")\n",
    "plt.title(\"Thalium Stress Test Results\", size=30)\n",
    "plt.ylabel(\"Frequency\", labelpad=40, size=20)\n",
    "plt.xlabel(\"Results\", labelpad=40, size=20)"
   ]
  },
  {
   "cell_type": "markdown",
   "metadata": {},
   "source": [
    "### <a id=''>14. 'target': Absence or Presence of Heart Disease</a>\n",
    "   * Datatype: non-null int64\n",
    "   * 0: no heart disease\n",
    "        * count: 138\n",
    "   * 1: heart disease present\n",
    "        * count: 164"
   ]
  },
  {
   "cell_type": "code",
   "execution_count": null,
   "metadata": {
    "_kg_hide-input": true
   },
   "outputs": [],
   "source": [
    "ax1 = sns.countplot(heart3['target'], palette=\"BuPu\")\n",
    "plt.title(\"Distribution of HD Diagnosis\", size=30)\n",
    "plt.ylabel(\"Frequency\", labelpad=40, size=20)\n",
    "plt.xlabel(\"HD Diagnosis\", labelpad=40, size=20)"
   ]
  },
  {
   "cell_type": "markdown",
   "metadata": {},
   "source": [
    "All values above derived from the following lines of code:\n",
    "\n",
    "* heart2.describe()\n",
    "* heart2.median()\n",
    "* heart2.mode()\n",
    "* heart2.info()\n",
    "* heart2.target.value_counts()\n",
    "* heart2.thal.value_counts()\n",
    "* heart2.no_maj_vessels.value_counts()\n",
    "* heart2.m_exercise_ST.value_counts()\n",
    "* heart2.exercise_ANG.value_counts()\n",
    "* heart2.resting_EKG.value_counts()\n",
    "* heart2.fasting_BS.value_counts()\n",
    "* heart2.cpain.value_counts()\n",
    "* heart2.sex.value_counts()"
   ]
  },
  {
   "cell_type": "markdown",
   "metadata": {},
   "source": [
    "# <a id='#4'>4. Data Preprocesing</a> "
   ]
  },
  {
   "cell_type": "markdown",
   "metadata": {},
   "source": [
    "## <a id='#4.1'>4.1. Assess and Remove Outleirs</a> "
   ]
  },
  {
   "cell_type": "markdown",
   "metadata": {},
   "source": [
    "I am going to look for outliers using a Standard Deviation method.\n",
    "\n",
    "I am making a function which will find all outliers 3 standard deviations or more from the mean.\n",
    "\n",
    "It's important here to know the data you are working with. The following features cannot have (meaningful) outliers: \n",
    "   * Sex, discrete 0 or 1 \n",
    "   * Chest pain type, discrete 0-3 \n",
    "   * Fasting blood sugar, discrete 0 or 1\n",
    "   * Resting EKG, discrete 0 or 1 \n",
    "   * Exercise induced angina, discrete 0 or 1 \n",
    "   * Slope of the peak exercise ST segment discrete 0-2 \n",
    "   * Number of major vessels colored, discrete 0-4 \n",
    "   * Thal, discrete 0-3 \n",
    "   * Target, discrete 0 or 1"
   ]
  },
  {
   "cell_type": "code",
   "execution_count": null,
   "metadata": {},
   "outputs": [],
   "source": [
    "def outliers3STD(df, rowname, title):\n",
    "    value= pd.DataFrame(df.loc[:,rowname])\n",
    "    mean, std= DataFrame.mean(value), DataFrame.std(value)\n",
    "    COvalue=std*3\n",
    "    lower, upper=mean - COvalue, mean + COvalue\n",
    "    lower=int(lower)\n",
    "    upper=int(upper)\n",
    "    dfToList = df[rowname].tolist()\n",
    "    outlierlow = [x for x in dfToList if x < lower]\n",
    "    outlierhigh= [x for x in dfToList if x > upper]\n",
    "    print(title,'low', outlierlow)\n",
    "    print(title,'high', outlierhigh)\n",
    "\n",
    "AGE=outliers3STD(heart2, 'age', 'AGE')\n",
    "RESTING_BP=outliers3STD(heart2, 'resting_BP', 'RESTING_BP')\n",
    "CHOL=outliers3STD(heart2, 'chol', 'CHOL')\n",
    "MAX_HR=outliers3STD(heart2, 'max_HR', 'MAX_HR')\n",
    "ST_DEPRESSION=outliers3STD(heart2, 'ST_depression', 'ST_DEPRESSION')"
   ]
  },
  {
   "cell_type": "markdown",
   "metadata": {},
   "source": [
    "So, the following outliers (3 SDT from the mean) exist:\n",
    "  * resting_BP of 200, 192 \n",
    "  * chol of 417, 564, 407, 409 \n",
    "  * max heart rate of 71 \n",
    "  * st_depression of 4.2, 6.2, 5.6, 4.2, 4.4\n",
    "\n",
    "Now, let's looks at these values individually"
   ]
  },
  {
   "cell_type": "markdown",
   "metadata": {},
   "source": [
    "### <a id=''>A. Resting Systolic Blood Pressure (mm Hg)</a> \n",
    "   * Outliers: 200, 192\n",
    "\n",
    "The resting blood pressures values are the systolic blood pressures upon admission. According to the CDC, high systolic blood pressure are values above 140, but values as high as our outliers would indicate hypertensive crisis. As this study examines people with heart disease, these values may be meaningful outliers.\n",
    "\n",
    "Let's take a second look at the distribution to get more information."
   ]
  },
  {
   "cell_type": "code",
   "execution_count": null,
   "metadata": {
    "_kg_hide-input": true
   },
   "outputs": [],
   "source": [
    "import warnings\n",
    "warnings.filterwarnings('ignore')\n",
    "\n",
    "ax1 = sns.distplot(heart2['resting_BP'], kde=False, color='blue')\n",
    "ax1.set_xlabel(\"Resting Systolic BP (mm Hg)\", fontsize=20)\n",
    "second_ax1 = ax1.twinx()\n",
    "second_ax1.yaxis.set_label_position(\"left\")\n",
    "sns.distplot(heart2['resting_BP'], ax=second_ax1, kde=True, hist=False, color='blue')\n",
    "second_ax1.set_yticks([])\n",
    "plt.title(\"Distribution of Resting Systolic BP\", size=35)\n",
    "plt.ylabel(\"Frequency\", labelpad=40, size=20)\n",
    "\n",
    "fig_size = plt.rcParams[\"figure.figsize\"]\n",
    "fig_size[0] = 20\n",
    "fig_size[1] = 8\n",
    "plt.rcParams[\"figure.figsize\"] = fig_size"
   ]
  },
  {
   "cell_type": "markdown",
   "metadata": {},
   "source": [
    "As we can see, the distribution is not normal and has a tail on the left (high blood pressure) side. \n",
    "\n",
    "Let's see if that changes in the target population (those with heart disease v those without):"
   ]
  },
  {
   "cell_type": "code",
   "execution_count": null,
   "metadata": {
    "_kg_hide-input": true
   },
   "outputs": [],
   "source": [
    "plt.subplot(1,2,1)\n",
    "plot1 = heart2[heart2.target == 1]\n",
    "ax1 = sns.distplot(plot1['resting_BP'], kde=False)\n",
    "ax1.set_xlabel(\"Resting Systolic BP  (mm Hg)\", fontsize=20)\n",
    "second_ax1 = ax1.twinx()\n",
    "second_ax1.yaxis.set_label_position(\"left\")\n",
    "sns.distplot(plot1['resting_BP'], ax=second_ax1, kde=True, hist=False)\n",
    "second_ax1.set_yticks([])\n",
    "plt.title(\"Presence of HD\", size=35)\n",
    "plt.ylabel(\"Frequency\", labelpad=40, size=20)\n",
    "\n",
    "\n",
    "plt.subplot(1,2,2)\n",
    "plot0 = heart2[heart2.target == 0]\n",
    "ax0 = sns.distplot(plot0['resting_BP'], kde=False)\n",
    "ax0.set_xlabel(\"Resting Systolic BP (mm Hg)\", fontsize=20)\n",
    "second_ax0 = ax0.twinx()\n",
    "sns.distplot(plot0['resting_BP'], ax=second_ax0, kde=True, hist=False)\n",
    "second_ax0.set_yticks([])\n",
    "plt.title(\"Absence of HD\", size=35)\n",
    "\n",
    "fig_size = plt.rcParams[\"figure.figsize\"]\n",
    "fig_size[0] = 22\n",
    "fig_size[1] = 8\n",
    "plt.rcParams[\"figure.figsize\"] = fig_size"
   ]
  },
  {
   "cell_type": "markdown",
   "metadata": {},
   "source": [
    "It looks like the blood pressure in the patients without heart disease centers around 130mm Hg.  130 is a high number, but it would not be abnormal for someone seeking cardiac care. In the patients with heart disease, there is a strange drop off at about 130mm Hg.\n",
    "\n",
    "The aformentioned outliers skew the distribution slightly. It is interesting to note that both outliers of 200 and 192 were present in people not diagnosed with heart disease.\n",
    "\n",
    "As both curves are relatively normal, and would be slightly skewed to the left regardless of whether or not the outliers were removed, I am going to keep them in the dataset."
   ]
  },
  {
   "cell_type": "markdown",
   "metadata": {},
   "source": [
    "### <a id=''>B. Serum Cholesterol Levels (mg/dl)</a> \n",
    "   * Outliers: 417, 564, 407, 409\n",
    "\n",
    "The outlying cholesterol levels of are VERY high. The maximum value (546) is over twice the mean (264.5).  \n",
    "\n",
    "Let's take another look at the distribution."
   ]
  },
  {
   "cell_type": "code",
   "execution_count": null,
   "metadata": {
    "_kg_hide-input": true
   },
   "outputs": [],
   "source": [
    "ax1 = sns.distplot(heart2['chol'], kde=False, color='red')\n",
    "ax1.set_xlabel(\"Serum Cholesterol (mg/dl)\", fontsize=20)\n",
    "second_ax1 = ax1.twinx()\n",
    "second_ax1.yaxis.set_label_position(\"left\")\n",
    "sns.distplot(heart2['chol'], ax=second_ax1, kde=True, hist=False, color='red')\n",
    "second_ax1.set_yticks([])\n",
    "plt.title(\"Distribution of Serum Cholesterol\", size=35)\n",
    "plt.ylabel(\"Frequency\", labelpad=40, size=20)\n",
    "\n",
    "fig_size = plt.rcParams[\"figure.figsize\"]\n",
    "fig_size[0] = 22\n",
    "fig_size[1] = 8\n",
    "plt.rcParams[\"figure.figsize\"] = fig_size"
   ]
  },
  {
   "cell_type": "markdown",
   "metadata": {},
   "source": [
    "The outlying cholesterol levels are extremly far away from the the center of the distribution curve. Let's look at the rows containing the outliers. That way we can see if they possess any other outlying feature values."
   ]
  },
  {
   "cell_type": "code",
   "execution_count": null,
   "metadata": {},
   "outputs": [],
   "source": [
    "heart2.loc[heart2.loc[:,'chol']>400]"
   ]
  },
  {
   "cell_type": "markdown",
   "metadata": {},
   "source": [
    "Aside from cholesterol, none of the other above features contain outliers. Furthermore, there is not a clear trend linking the outlying cholesterol levels to the presence or absence of heart disease. \n",
    "\n",
    "Before, I remove the outliers, let's look at how the cholesterol distribution varies between people with and without heart disease."
   ]
  },
  {
   "cell_type": "code",
   "execution_count": null,
   "metadata": {
    "_kg_hide-input": true
   },
   "outputs": [],
   "source": [
    "plt.subplot(1,2,1)\n",
    "plot1 = heart2[heart2.target == 1]\n",
    "ax1 = sns.distplot(plot1['chol'], kde=False, color='red')\n",
    "ax1.set_xlabel(\"Sreum Cholesterol (mg/dl)\", fontsize=20)\n",
    "second_ax1 = ax1.twinx()\n",
    "second_ax1.yaxis.set_label_position(\"left\")\n",
    "sns.distplot(plot1['chol'], ax=second_ax1, kde=True, hist=False, color='red')\n",
    "second_ax1.set_yticks([])\n",
    "plt.title(\"Presence of HD\", size=35)\n",
    "plt.ylabel(\"Frequency\", labelpad=40, size=20)\n",
    "\n",
    "\n",
    "plt.subplot(1,2,2)\n",
    "plot0 = heart2[heart2.target == 0]\n",
    "ax0 = sns.distplot(plot0['chol'], kde=False, color='red')\n",
    "ax0.set_xlabel(\"Serum Cholesterol (mg/dl)\", fontsize=20)\n",
    "second_ax0 = ax0.twinx()\n",
    "sns.distplot(plot0['chol'], ax=second_ax0, kde=True, hist=False, color='red')\n",
    "second_ax0.set_yticks([])\n",
    "plt.title(\"Absence of HD\", size=35)\n",
    "\n",
    "fig_size = plt.rcParams[\"figure.figsize\"]\n",
    "fig_size[0] = 22\n",
    "fig_size[1] = 8\n",
    "plt.rcParams[\"figure.figsize\"] = fig_size"
   ]
  },
  {
   "cell_type": "markdown",
   "metadata": {},
   "source": [
    "Aside from the two outliers, the distribution of cholesterol levels in people without HD is very normal and symmetrical. The distribuiton of the cholesterol levels in people with HD has a tail on the right hand side.\n",
    "\n",
    "As the 4 outliers noted above to not seem to mesh with the distribution of cholesterol levels as a whole, I am going to remove them. They will be replace with the average (mean) cholesterol of their respective target values."
   ]
  },
  {
   "cell_type": "code",
   "execution_count": null,
   "metadata": {
    "_kg_hide-input": true
   },
   "outputs": [],
   "source": [
    "heart4 = heart2[heart2.chol < 400]\n",
    "heart4P=heart4.loc[heart4.loc[:,'target']==1]\n",
    "heart4A=heart4.loc[heart4.loc[:,'target']==0]\n",
    "\n",
    "print(\"Mean serum cholesterol in those with heart disease is:\", heart4P.chol.mean())\n",
    "print(\"Mean serum cholesterol in those without heart disease is:\", heart4A.chol.mean())"
   ]
  },
  {
   "cell_type": "code",
   "execution_count": null,
   "metadata": {},
   "outputs": [],
   "source": [
    "heart2['chol']=heart2['chol'].replace([417, 564], 240)\n",
    "heart2['chol']=heart2['chol'].replace([407, 409], 249)\n",
    "\n",
    "heart3['chol']=heart3['chol'].replace([417, 564], 240)\n",
    "heart3['chol']=heart3['chol'].replace([407, 409], 249)"
   ]
  },
  {
   "cell_type": "markdown",
   "metadata": {},
   "source": [
    "### <a id=''>C. Maximum Heartrate (bpm)</a> \n",
    "   * Outlier: 71 bpm\n",
    "\n",
    "The maximum heart rate of 71 is quite low compared to the mean (it is roughly half of the mean, 149.6). However, it is a realistic number. \n",
    "\n",
    "Let's examine the the distribution."
   ]
  },
  {
   "cell_type": "code",
   "execution_count": null,
   "metadata": {
    "_kg_hide-input": true
   },
   "outputs": [],
   "source": [
    "ax1 = sns.distplot(heart2['max_HR'], kde=False, color='green')\n",
    "ax1.set_xlabel(\"Maximum Heart Rate (bpm)\", fontsize=20)\n",
    "second_ax1 = ax1.twinx()\n",
    "second_ax1.yaxis.set_label_position(\"left\")\n",
    "sns.distplot(heart2['max_HR'], ax=second_ax1, kde=True, hist=False, color='green')\n",
    "second_ax1.set_yticks([])\n",
    "plt.title(\"Distribution of Maximum Heart Rate\", size=35)\n",
    "plt.ylabel(\"Frequency\", labelpad=40, size=20)\n",
    "\n",
    "fig_size = plt.rcParams[\"figure.figsize\"]\n",
    "fig_size[0] = 22\n",
    "fig_size[1] = 8\n",
    "plt.rcParams[\"figure.figsize\"] = fig_size"
   ]
  },
  {
   "cell_type": "markdown",
   "metadata": {},
   "source": [
    "As we can see, the distribution is not normal and has a tail on the right (low maximum heartrate) side. Let's see if that changes in the target population (those with heart disease v those without)."
   ]
  },
  {
   "cell_type": "code",
   "execution_count": null,
   "metadata": {},
   "outputs": [],
   "source": [
    "plt.subplot(1,2,1)\n",
    "plot1 = heart2[heart2.target == 1]\n",
    "ax1 = sns.distplot(plot1['max_HR'], kde=False, color='green')\n",
    "ax1.set_xlabel(\"Maximum Heart Rate (bpm)\", fontsize=20)\n",
    "second_ax1 = ax1.twinx()\n",
    "second_ax1.yaxis.set_label_position(\"left\")\n",
    "sns.distplot(plot1['max_HR'], ax=second_ax1, kde=True, hist=False, color='green')\n",
    "second_ax1.set_yticks([])\n",
    "plt.title(\"Presence of HD\", size=35)\n",
    "plt.ylabel(\"Frequency\", labelpad=40, size=20)\n",
    "\n",
    "\n",
    "plt.subplot(1,2,2)\n",
    "plot0 = heart2[heart2.target == 0]\n",
    "ax0 = sns.distplot(plot0['max_HR'], kde=False, color='green')\n",
    "ax0.set_xlabel(\"Maximum Heart Rate (bpm)\", fontsize=20)\n",
    "second_ax0 = ax0.twinx()\n",
    "sns.distplot(plot0['max_HR'], ax=second_ax0, kde=True, hist=False, color='green')\n",
    "second_ax0.set_yticks([])\n",
    "plt.title(\"Absence of HD\", size=35)\n",
    "\n",
    "fig_size = plt.rcParams[\"figure.figsize\"]\n",
    "fig_size[0] = 22\n",
    "fig_size[1] = 8\n",
    "plt.rcParams[\"figure.figsize\"] = fig_size"
   ]
  },
  {
   "cell_type": "markdown",
   "metadata": {},
   "source": [
    "Interestingly, both distributions are skewed slightly to the left. As the outlier of 71 seems to fit into that general trend, I am going to leave it in the data set."
   ]
  },
  {
   "cell_type": "markdown",
   "metadata": {},
   "source": [
    "### <a id=''>D. ST Depression (mm) Induced by Exercise Relative to Rest</a> \n",
    "\n",
    "* Outliers: 4.2, 6.2, 5.6, 4.2, 4.4\n",
    "\n",
    "The above outliers are significantly higher than the:\n",
    "   * Mean (1.04)\n",
    "   * Median (0.8)\n",
    "   * Mode (0.0). \n",
    "\n",
    "Let's look at the distribution."
   ]
  },
  {
   "cell_type": "code",
   "execution_count": null,
   "metadata": {
    "_kg_hide-input": true
   },
   "outputs": [],
   "source": [
    "ax1 = sns.distplot(heart2['ST_depression'], kde=False, color='orange')\n",
    "ax1.set_xlabel(\"ST Depression\", fontsize=20)\n",
    "second_ax1 = ax1.twinx()\n",
    "second_ax1.yaxis.set_label_position(\"left\")\n",
    "sns.distplot(heart2['ST_depression'], ax=second_ax1, kde=True, hist=False, color='orange')\n",
    "second_ax1.set_yticks([])\n",
    "plt.title(\"Distribution of ST Depression\", size=35)\n",
    "plt.ylabel(\"Frequency\", labelpad=40, size=20)\n",
    "plt.xlim(0, 8)\n",
    "\n",
    "fig_size = plt.rcParams[\"figure.figsize\"]\n",
    "fig_size[0] = 22\n",
    "fig_size[1] = 8\n",
    "plt.rcParams[\"figure.figsize\"] = fig_size"
   ]
  },
  {
   "cell_type": "markdown",
   "metadata": {},
   "source": [
    "Looking at the information given, An ST depression of 0 is normal, while an ST depression below 0 can be indicative of Heart Disease. Let's look at the distribution and stats (mean, median, mode) once I remove the 0 values."
   ]
  },
  {
   "cell_type": "code",
   "execution_count": null,
   "metadata": {
    "_kg_hide-input": true
   },
   "outputs": [],
   "source": [
    "ABNORMALST = heart2[heart2.ST_depression != 0]\n",
    "ax1 = sns.distplot(ABNORMALST['ST_depression'], kde=False, color='orange')\n",
    "ax1.set_xlabel(\"ST Depression\", fontsize=20)\n",
    "second_ax1 = ax1.twinx()\n",
    "second_ax1.yaxis.set_label_position(\"left\")\n",
    "sns.distplot(ABNORMALST['ST_depression'], ax=second_ax1, kde=True, hist=False, color='orange')\n",
    "second_ax1.set_yticks([])\n",
    "plt.title(\"Distribution of ST Depression\", size=35)\n",
    "plt.ylabel(\"Frequency\", labelpad=40, size=20)\n",
    "plt.xlim(0, 8)\n",
    "\n",
    "fig_size = plt.rcParams[\"figure.figsize\"]\n",
    "fig_size[0] = 22\n",
    "fig_size[1] = 8\n",
    "plt.rcParams[\"figure.figsize\"] = fig_size\n",
    "\n",
    "print(\"The Mean, Median, and Mode in the Absence of Normal ST Depression Values\")\n",
    "print(\"Mean:\", ABNORMALST['ST_depression'].mean())\n",
    "print(\"Median:\", ABNORMALST['ST_depression'].median())\n",
    "print(\"Modes:\", ABNORMALST['ST_depression'].mode())"
   ]
  },
  {
   "cell_type": "markdown",
   "metadata": {},
   "source": [
    "While the mean, median, and one of the modes are now slighlty closer to the outlying values, the distribtion is still far to skewed to the right to be normal.\n",
    "\n",
    "Let's look at the distribution once the outliers are removed."
   ]
  },
  {
   "cell_type": "code",
   "execution_count": null,
   "metadata": {
    "_kg_hide-input": true
   },
   "outputs": [],
   "source": [
    "ABNST = ABNORMALST[ABNORMALST.ST_depression <= 4]\n",
    "ax1 = sns.distplot(ABNST['ST_depression'], kde=False, color='orange')\n",
    "ax1.set_xlabel(\"ST Depression\", fontsize=20)\n",
    "second_ax1 = ax1.twinx()\n",
    "second_ax1.yaxis.set_label_position(\"left\")\n",
    "sns.distplot(ABNST['ST_depression'], ax=second_ax1, kde=True, hist=False, color='orange')\n",
    "second_ax1.set_yticks([])\n",
    "plt.title(\"Distribution of ST Depression (w/o Outliers)\", size=35)\n",
    "plt.ylabel(\"Frequency\", labelpad=40, size=20)\n",
    "plt.xlim(0, 5.5)\n",
    "\n",
    "fig_size = plt.rcParams[\"figure.figsize\"]\n",
    "fig_size[0] = 22\n",
    "fig_size[1] = 8\n",
    "plt.rcParams[\"figure.figsize\"] = fig_size\n",
    "\n",
    "print(\"The Mean, Median, and Mode in the Absence of Normal ST Depression Values and Outliers\")\n",
    "print(\"Mean:\", ABNST['ST_depression'].mean())\n",
    "print(\"Median:\", ABNST['ST_depression'].median())\n",
    "print(\"Modes:\", ABNST['ST_depression'].mode())"
   ]
  },
  {
   "cell_type": "markdown",
   "metadata": {},
   "source": [
    "The distribtuion looks slightly more normal, but is still skewed to the right significantly. \n",
    "\n",
    "Also, the mean, median, and mode are not significantly different before and after removing the outliers.\n",
    "\n",
    "I wonder if it would look more normal is I took log base 10 of all the values."
   ]
  },
  {
   "cell_type": "code",
   "execution_count": null,
   "metadata": {
    "_kg_hide-input": true
   },
   "outputs": [],
   "source": [
    "ABNORMALST['log_ST_depression'] = ABNORMALST.apply(lambda row: np.log(row.ST_depression), axis = 1) \n",
    "ax1 = sns.distplot(ABNORMALST['log_ST_depression'], kde=False, color='orange')\n",
    "ax1.set_xlabel(\"log ST Depression\", fontsize=20)\n",
    "second_ax1 = ax1.twinx()\n",
    "second_ax1.yaxis.set_label_position(\"left\")\n",
    "sns.distplot(ABNORMALST['log_ST_depression'], ax=second_ax1, kde=True, hist=False, color='orange')\n",
    "second_ax1.set_yticks([])\n",
    "plt.title(\"Distribution of  log ST Depression\", size=35)\n",
    "plt.ylabel(\"Frequency\", labelpad=40, size=20)\n",
    "plt.xlim(0, 3)\n",
    "\n",
    "fig_size = plt.rcParams[\"figure.figsize\"]\n",
    "fig_size[0] = 22\n",
    "fig_size[1] = 8\n",
    "plt.rcParams[\"figure.figsize\"] = fig_size"
   ]
  },
  {
   "cell_type": "markdown",
   "metadata": {},
   "source": [
    "It does not seem *that* much more normal. So, I am going to keep the outliers present, but I am going to make an important change to the dataframe: \n",
    "   * I am going to make a new binary feature indicating if an abnormal (non-0) ST depression was found.\n",
    "    \n",
    "Please note that I cannot normalize the full ST depression column with the normal (0) values, as the log of 0 give a NaN value"
   ]
  },
  {
   "cell_type": "code",
   "execution_count": null,
   "metadata": {},
   "outputs": [],
   "source": [
    "heart2['ST_depressionAB']=heart2['ST_depression'].apply(lambda row: 1 if row > 0 else 0)\n",
    "heart2A=heart2.iloc[:,0:11]\n",
    "heart2B=heart2.iloc[:,11:14]\n",
    "heart2C=heart2.loc[:,'ST_depressionAB']\n",
    "heart2C=pd.DataFrame(heart2C)\n",
    "heart2C.head()\n",
    "heart2 = pd.concat([heart2A, heart2C, heart2B], axis=1, join_axes=[heart2A.index])\n",
    "\n",
    "heart3['ST_depressionAB']=heart3['ST_depression'].apply(lambda row: 1 if row > 0 else 0)\n",
    "heart3A=heart3.iloc[:,0:11]\n",
    "heart3B=heart3.iloc[:,11:14]\n",
    "heart3C=heart3.loc[:,'ST_depressionAB']\n",
    "heart3C=pd.DataFrame(heart3C)\n",
    "heart3C.head()\n",
    "heart3 = pd.concat([heart3A, heart3C, heart3B], axis=1, join_axes=[heart3A.index])\n",
    "heart3['ST_depressionAB']=heart3['ST_depressionAB'].replace([0, 1], ['Normal', 'Abnormal'])"
   ]
  },
  {
   "cell_type": "markdown",
   "metadata": {},
   "source": [
    "## <a id='#4.2'>4.2. Examine Potentially Erroneous Values</a> "
   ]
  },
  {
   "cell_type": "markdown",
   "metadata": {},
   "source": [
    "I noticed that the Thal feature only had 3 described datatypes: fixed defect, normal, and reversible defect. \n",
    "\n",
    "However, there is a 4th category that is unspecfied. I could not find any information on the meaning of this category. \n",
    "\n",
    "Since only two rows had 0 as a Thalium Stress Test result, I am going to assume that it is either a error or represents patients in which a Thalium Stress Test was not performed. \n",
    "\n",
    "Let's look more closely at the data in those rows."
   ]
  },
  {
   "cell_type": "code",
   "execution_count": null,
   "metadata": {},
   "outputs": [],
   "source": [
    "heart2.loc[heart2.loc[:,'thal']==0]"
   ]
  },
  {
   "cell_type": "markdown",
   "metadata": {},
   "source": [
    "There are no additional outliers in the patients with the 0 value thalium stress test.\n",
    "\n",
    "Because there are only two values, it is not likely to change the results. I am going to change their values to the average values of their target."
   ]
  },
  {
   "cell_type": "code",
   "execution_count": null,
   "metadata": {
    "_kg_hide-input": true
   },
   "outputs": [],
   "source": [
    "PHD=heart2.loc[heart2.loc[:,'target']==1]\n",
    "AHD=heart2.loc[heart2.loc[:,'target']==0]\n",
    "print(\"Most common Thalium Stress Test result in those dianosed with Heart Disease:\", PHD.thal.mode())\n",
    "print(\"Most common Thalium Stress Test result in those dianosed without Heart Disease:\", AHD.thal.mode())\n",
    "\n",
    "heartwo0=heart2.loc[heart2.loc[:,'thal']!=0]\n",
    "plt.subplot(1,2,1)\n",
    "plot1 = heartwo0[heartwo0.target == 1]\n",
    "ax1 = sns.countplot(plot1['thal'])\n",
    "plt.title(\"Presence of HD\", size=35)\n",
    "plt.ylabel(\"Frequency\", labelpad=40, size=20)\n",
    "plt.xlabel(\"Thalium Stress Test Result\", labelpad=40, size=20)\n",
    "plt.ylim(0, 140)\n",
    "\n",
    "plt.subplot(1,2,2)\n",
    "plot1 = heartwo0[heartwo0.target == 0]\n",
    "ax1 = sns.countplot(plot1['thal'])\n",
    "plt.title(\"Absence of HD\", size=35)\n",
    "plt.ylabel(\"    \", labelpad=40, size=20)\n",
    "plt.xlabel(\"Thalium Stress Test Result\", labelpad=40, size=20)\n",
    "plt.ylim(0, 140)"
   ]
  },
  {
   "cell_type": "markdown",
   "metadata": {},
   "source": [
    "So, I am going to make two changes:\n",
    "\n",
    "1. Replace the thal value at index 48 with 2, the mode for patients with heart disease.\n",
    "2. Replace the thal value at index 48 with 3, the mode for patients without heart disease."
   ]
  },
  {
   "cell_type": "code",
   "execution_count": null,
   "metadata": {},
   "outputs": [],
   "source": [
    "heart2.loc[48, 'thal']=2.0\n",
    "heart2.loc[281, 'thal']=3.0"
   ]
  },
  {
   "cell_type": "code",
   "execution_count": null,
   "metadata": {},
   "outputs": [],
   "source": [
    "heart3.loc[48, 'thal']=\"Normal\"\n",
    "heart3.loc[281, 'thal']=\"Reversible Defect\""
   ]
  },
  {
   "cell_type": "markdown",
   "metadata": {},
   "source": [
    "Now that the DataFrame is clean, free of extreme outliers and erroneous values, let's do some exploratory data anslysis!"
   ]
  },
  {
   "cell_type": "markdown",
   "metadata": {},
   "source": [
    "# <a id='#5'>5. Exploratory Data Analysis</a> "
   ]
  },
  {
   "cell_type": "markdown",
   "metadata": {},
   "source": [
    "## <a id='#5.1'>5.1. Overall Correlation Analysis</a> "
   ]
  },
  {
   "cell_type": "markdown",
   "metadata": {},
   "source": [
    "Let's examine the correlation between the different features by creating a heat map and correlation table."
   ]
  },
  {
   "cell_type": "code",
   "execution_count": null,
   "metadata": {
    "_kg_hide-input": true
   },
   "outputs": [],
   "source": [
    "plt.figure(figsize=(20,20))\n",
    "sns.heatmap(heart2.corr(),vmax=.3, center=0,\n",
    "            square=True, linewidths=.5, cbar_kws={\"shrink\": .5},annot=True)\n",
    "plt.show()"
   ]
  },
  {
   "cell_type": "code",
   "execution_count": null,
   "metadata": {},
   "outputs": [],
   "source": [
    "heart2.corr()"
   ]
  },
  {
   "cell_type": "markdown",
   "metadata": {},
   "source": [
    "Let's look more specifically at the correlations between the features and the target. \n",
    "\n",
    "The following dataframe is organized in descending order of the absolute value of the correlation between the feature and the target."
   ]
  },
  {
   "cell_type": "code",
   "execution_count": null,
   "metadata": {
    "_kg_hide-input": true
   },
   "outputs": [],
   "source": [
    "corre=heart2.corr()\n",
    "TargetCorr=corre.loc[:'thal','target']\n",
    "TargetCorr=pd.DataFrame(TargetCorr)\n",
    "TargetCorr['AbsVal']=TargetCorr['target'].apply(lambda row: abs(row))\n",
    "TargetCorr['Rank']=pd.DataFrame.rank(TargetCorr['AbsVal'])\n",
    "TargetCorr['Feature']=TargetCorr.index\n",
    "TargetCorr = TargetCorr.set_index('Rank') \n",
    "TargetCorr = TargetCorr.sort_index(ascending=0)\n",
    "TargetCorr = TargetCorr.set_index('Feature') \n",
    "TargetCorr=TargetCorr.loc[:,'target']\n",
    "TargetCorr=pd.DataFrame(TargetCorr)\n",
    "TargetCorr.columns=[\"Correlation with Target\"]\n",
    "TargetCorr"
   ]
  },
  {
   "cell_type": "markdown",
   "metadata": {},
   "source": [
    "As we can see, there are strong correlations between several of the features and the target.  Let's examine some of these correlations more closely.  \n",
    "\n",
    "Please note that this is a *basic* exploratory data analysis.  More feature correlations and, more importantly, their importance in predicting Heart Disease diagnosis, will be examined in the following sections of this study.  "
   ]
  },
  {
   "cell_type": "markdown",
   "metadata": {},
   "source": [
    "## <a id='#5.2'>5.2. Feature Specific Analysis</a> "
   ]
  },
  {
   "cell_type": "markdown",
   "metadata": {},
   "source": [
    "*The following sections go in order of the highest correlation to the lowest, as determined by the .corr function*"
   ]
  },
  {
   "cell_type": "markdown",
   "metadata": {},
   "source": [
    "### <a id=''>1. Exercise Induced Angina</a> \n",
    "**Correlation with Diagnosis of Heart Disease: -0.435601**"
   ]
  },
  {
   "cell_type": "code",
   "execution_count": null,
   "metadata": {
    "_kg_hide-input": true
   },
   "outputs": [],
   "source": [
    "PHD=heart3.loc[heart3.loc[:,'target']==\"Present\"]\n",
    "AHD=heart3.loc[heart3.loc[:,'target']==\"Absent\"]\n",
    "\n",
    "plt.subplot(1,2,1)\n",
    "sns.countplot(PHD['exercise_ANG'], order=[\"Present\", \"Absent\"])\n",
    "plt.title(\"Presence of HD\", size=35)\n",
    "plt.ylabel(\"Frequency\", labelpad=40, size=20)\n",
    "plt.xlabel(\"Exercise Induced Angina\", labelpad=40, size=20)\n",
    "plt.ylim(0, 145)\n",
    "\n",
    "plt.subplot(1,2,2)\n",
    "sns.countplot(AHD['exercise_ANG'], order=[\"Present\", \"Absent\"])\n",
    "plt.title(\"Absence of HD\", size=35)\n",
    "plt.ylabel(\"    \", labelpad=40, size=20)\n",
    "plt.xlabel(\"Exercise Induced Angina\", labelpad=40, size=20)\n",
    "plt.ylim(0, 145)"
   ]
  },
  {
   "cell_type": "markdown",
   "metadata": {},
   "source": [
    "It is clear looking at the above graph that a significantly high proportion of people diagnosed with Heart Disease in this study did *not* experience exercise induced angina.  "
   ]
  },
  {
   "cell_type": "code",
   "execution_count": null,
   "metadata": {
    "_kg_hide-input": true
   },
   "outputs": [],
   "source": [
    "#EIA Present\n",
    "PresentTot=heart3.loc[heart3['exercise_ANG']==\"Present\"].count()\n",
    "PresentTot=pd.DataFrame(PresentTot)\n",
    "PresentTot=PresentTot.iloc[0,0]\n",
    "\n",
    "PresentPHD=PHD.loc[PHD['exercise_ANG']==\"Present\"].count()\n",
    "PresentPHD=pd.DataFrame(PresentPHD)\n",
    "PresentPHD=PresentPHD.iloc[0,0]\n",
    "\n",
    "PresentAHD=AHD.loc[AHD['exercise_ANG']==\"Present\"].count()\n",
    "PresentAHD=pd.DataFrame(PresentAHD)\n",
    "PresentAHD=PresentAHD.iloc[0,0]\n",
    "\n",
    "#EIA Absent\n",
    "AbsentTot=heart3.loc[heart3['exercise_ANG']==\"Absent\"].count()\n",
    "AbsentTot=pd.DataFrame(AbsentTot)\n",
    "AbsentTot=AbsentTot.iloc[0,0]\n",
    "\n",
    "AbsentPHD=PHD.loc[PHD['exercise_ANG']==\"Absent\"].count()\n",
    "AbsentPHD=pd.DataFrame(AbsentPHD)\n",
    "AbsentPHD=AbsentPHD.iloc[0,0]\n",
    "\n",
    "AbsentAHD=AHD.loc[AHD['exercise_ANG']==\"Absent\"].count()\n",
    "AbsentAHD=pd.DataFrame(AbsentAHD)\n",
    "AbsentAHD=AbsentAHD.iloc[0,0]\n",
    "\n",
    "\n",
    "ProPresentPHD=round(100*(PresentPHD/PresentTot))\n",
    "ProPresentAHD=round(100*(PresentAHD/PresentTot))\n",
    "\n",
    "ProAbsentPHD=round(100*(AbsentPHD/AbsentTot))\n",
    "ProAbsentAHD=round(100*(AbsentAHD/AbsentTot))\n",
    "\n",
    "plt.subplot(1,2,1)\n",
    "y = [ProPresentPHD, ProAbsentPHD]\n",
    "x = [\"Percent with EIA\", \"Percent without EIA\"]\n",
    "width = 1/1.5\n",
    "plt.bar(x, y, width)\n",
    "plt.ylabel(\"Percent Seeking Treatment\", labelpad=40, size=20)\n",
    "plt.xlabel(\"Exercise Induced Angina (EIA)\", labelpad=40, size=20)\n",
    "plt.title(\"Presence of HD\", size=35)\n",
    "\n",
    "plt.subplot(1,2,2)\n",
    "y = [ProPresentAHD, ProAbsentAHD]\n",
    "x = [\"Percent with EIA\", \"Percent without EIA\"]\n",
    "width = 1/1.5\n",
    "plt.bar(x, y, width)\n",
    "plt.xlabel(\"Exercise Induced Angina (EIA)\", labelpad=40, size=20)\n",
    "plt.title(\"Absence of HD\", size=35)\n",
    "\n",
    "ExAng = pd.DataFrame(columns=['Present_HD', 'Absent_HD'], index= ['Positive for EIA', 'Negative for EIA'])\n",
    "ExAng.loc[\"Positive for EIA\", \"Present_HD\"]=ProPresentPHD\n",
    "ExAng.loc[\"Positive for EIA\", \"Absent_HD\"]=ProPresentAHD\n",
    "ExAng.loc[\"Negative for EIA\", \"Present_HD\"]=ProAbsentPHD\n",
    "ExAng.loc[\"Negative for EIA\",\"Absent_HD\"]=ProAbsentAHD\n",
    "\n",
    "print(ExAng)"
   ]
  },
  {
   "cell_type": "markdown",
   "metadata": {},
   "source": [
    "These graphs and tables tell us something a little different than graphs above them: the percentage of people experiencing a symptom who are diagnosed (or not diagnosed) with Heart Disease.\n",
    "\n",
    "For example, the graphs and table above show that only 23% of people with EIA are diagnosed with Heart Disease.\n",
    "\n",
    "Overall: \n",
    "* The presence of EIA is strongly negatively correlated with the presence of Heart Disease\n",
    "    * In this study, only 23% of people who experienced an EIA were diagnosed with Heart Disease "
   ]
  },
  {
   "cell_type": "markdown",
   "metadata": {},
   "source": [
    "### <a id=''>2. Chest Pain</a> \n",
    "**Correlation with Diagnosis of Heart Disease: 0.432080**"
   ]
  },
  {
   "cell_type": "code",
   "execution_count": null,
   "metadata": {
    "_kg_hide-input": true
   },
   "outputs": [],
   "source": [
    "plt.subplot(1,2,1)\n",
    "sns.countplot(PHD['cpain'], order=[\"Asymptomatic\", \"Typical Angina\", \"Atypical Angina\",\"Non-Angina\"])\n",
    "plt.title(\"Presence of HD\", size=35)\n",
    "plt.ylabel(\"Frequency\", labelpad=40, size=20)\n",
    "plt.xlabel(\"Chest Pain Type\", labelpad=40, size=20)\n",
    "\n",
    "\n",
    "plt.subplot(1,2,2)\n",
    "sns.countplot(AHD['cpain'], order=[\"Asymptomatic\", \"Typical Angina\", \"Atypical Angina\", \"Non-Angina\"])\n",
    "plt.title(\"Absence of HD\", size=35)\n",
    "plt.ylabel(\"    \", labelpad=40, size=20)\n",
    "plt.xlabel(\"Chest Pain Type\", labelpad=40, size=20)\n"
   ]
  },
  {
   "cell_type": "code",
   "execution_count": null,
   "metadata": {
    "_kg_hide-input": true
   },
   "outputs": [],
   "source": [
    "#Asymptomatic\n",
    "AsymptomaticTot=heart3.loc[heart3['cpain']==\"Asymptomatic\"].count()\n",
    "AsymptomaticTot=pd.DataFrame(AsymptomaticTot)\n",
    "AsymptomaticTot=AsymptomaticTot.iloc[0,0]\n",
    "\n",
    "AsymptomaticPHD=PHD.loc[PHD['cpain']==\"Asymptomatic\"].count()\n",
    "AsymptomaticPHD=pd.DataFrame(AsymptomaticPHD)\n",
    "AsymptomaticPHD=AsymptomaticPHD.iloc[0,0]\n",
    "\n",
    "AsymptomaticAHD=AHD.loc[AHD['cpain']==\"Asymptomatic\"].count()\n",
    "AsymptomaticAHD=pd.DataFrame(AsymptomaticAHD)\n",
    "AsymptomaticAHD=AsymptomaticAHD.iloc[0,0]\n",
    "\n",
    "ProAsymptomaticPHD=round(100*(AsymptomaticPHD/AsymptomaticTot))\n",
    "ProAsymptomaticAHD=round(100*(AsymptomaticAHD/AsymptomaticTot))\n",
    "\n",
    "#Typical Angina\n",
    "TATot=heart3.loc[heart3['cpain']==\"Typical Angina\"].count()\n",
    "TATot=pd.DataFrame(TATot)\n",
    "TATot=TATot.iloc[0,0]\n",
    "\n",
    "TAPHD=PHD.loc[PHD['cpain']==\"Typical Angina\"].count()\n",
    "TAPHD=pd.DataFrame(TAPHD)\n",
    "TAPHD=TAPHD.iloc[0,0]\n",
    "\n",
    "TAAHD=AHD.loc[AHD['cpain']==\"Typical Angina\"].count()\n",
    "TAAHD=pd.DataFrame(TAAHD)\n",
    "TAAHD=TAAHD.iloc[0,0]\n",
    "\n",
    "ProTAPHD=round(100*(TAPHD/TATot))\n",
    "ProTAAHD=round(100*(TAAHD/TATot))\n",
    "\n",
    "#Atypical Angina\n",
    "ATATot=heart3.loc[heart3['cpain']==\"Atypical Angina\"].count()\n",
    "ATATot=pd.DataFrame(ATATot)\n",
    "ATATot=ATATot.iloc[0,0]\n",
    "\n",
    "ATAPHD=PHD.loc[PHD['cpain']==\"Atypical Angina\"].count()\n",
    "ATAPHD=pd.DataFrame(ATAPHD)\n",
    "ATAPHD=ATAPHD.iloc[0,0]\n",
    "\n",
    "ATAAHD=AHD.loc[AHD['cpain']==\"Atypical Angina\"].count()\n",
    "ATAAHD=pd.DataFrame(ATAAHD)\n",
    "ATAAHD=ATAAHD.iloc[0,0]\n",
    "\n",
    "ProATAPHD=round(100*(ATAPHD/ATATot))\n",
    "ProATAAHD=round(100*(ATAAHD/ATATot))\n",
    "\n",
    "#Non-Angina\n",
    "NATot=heart3.loc[heart3['cpain']==\"Non-Angina\"].count()\n",
    "NATot=pd.DataFrame(NATot)\n",
    "NATot=NATot.iloc[0,0]\n",
    "\n",
    "NAPHD=PHD.loc[PHD['cpain']==\"Non-Angina\"].count()\n",
    "NAPHD=pd.DataFrame(NAPHD)\n",
    "NAPHD=NAPHD.iloc[0,0]\n",
    "\n",
    "NAAHD=AHD.loc[AHD['cpain']==\"Non-Angina\"].count()\n",
    "NAAHD=pd.DataFrame(NAAHD)\n",
    "NAAHD=NAAHD.iloc[0,0]\n",
    "\n",
    "ProNAPHD=round(100*(NAPHD/NATot))\n",
    "ProNAAHD=round(100*(NAAHD/NATot))\n",
    "\n",
    "\n",
    "plt.subplot(1,2,1)\n",
    "y = [ProAsymptomaticPHD, ProTAPHD, ProATAPHD, ProNAPHD]\n",
    "x = [\"Asymptomatic\", \"Typical Angina\", \"Atypical Angina\", \"Non-Angina\"]\n",
    "width = 1/1.5\n",
    "plt.bar(x, y, width)\n",
    "plt.ylabel(\"Percent Seeking Treatment\", labelpad=40, size=20)\n",
    "plt.xlabel(\"Chest Pain Type\", labelpad=40, size=20)\n",
    "plt.title(\"Presence of HD\", size=35)\n",
    "\n",
    "plt.subplot(1,2,2)\n",
    "y = [ProAsymptomaticAHD, ProTAAHD, ProATAAHD, ProNAAHD]\n",
    "x = [\"Asymptomatic\", \"Typical Angina\", \"Atypical Angina\", \"Non-Angina\"]\n",
    "width = 1/1.5\n",
    "plt.bar(x, y, width)\n",
    "plt.xlabel(\"Chest Pain Type\", labelpad=40, size=20)\n",
    "plt.title(\"Absence of HD\", size=35)\n",
    "\n",
    "ExAng = pd.DataFrame(columns=['Present_HD', 'Absent_HD'], index= [\"Asymptomatic\", \"Typical Angina\", \"Atypical Angina\", \"Non-Angina\"])\n",
    "ExAng.loc[\"Asymptomatic\", \"Present_HD\"]=ProAsymptomaticPHD\n",
    "ExAng.loc[\"Asymptomatic\", \"Absent_HD\"]=ProAsymptomaticAHD\n",
    "ExAng.loc[\"Typical Angina\", \"Present_HD\"]=ProTAPHD\n",
    "ExAng.loc[\"Typical Angina\", \"Absent_HD\"]=ProTAAHD\n",
    "ExAng.loc[\"Atypical Angina\", \"Present_HD\"]=ProATAPHD\n",
    "ExAng.loc[\"Atypical Angina\", \"Absent_HD\"]=ProATAAHD\n",
    "ExAng.loc[\"Non-Angina\", \"Present_HD\"]=ProNAPHD\n",
    "ExAng.loc[\"Non-Angina\", \"Absent_HD\"]=ProNAAHD\n",
    "\n",
    "print(ExAng)"
   ]
  },
  {
   "cell_type": "markdown",
   "metadata": {},
   "source": [
    "Overall:\n",
    "* There is a strong negative correlation between no pain (Asymptomatic) and the diagnosis of Heart Disease\n",
    "    * In this study, 73% of people who experienced no pain (Asmyptomatic) were not diagnosed with Heart Disease.\n",
    "* There is a strong positive correlation between Typical Angina pain and the presence of Heart Disease\n",
    "     * In this study, 82% of people who experienced Typical Angina pain were diagnosed with Heart Disease.\n",
    "* There is a strong positive correlation between Non-Angina pain and the presence of Heart Disease\n",
    "     * In this study, 79% of people who experienced Atypical Angina pain were diagnosed with Heart Disease.     \n",
    "* There is a strong positive correlation between Atypical Angina pain and the presence of Heart Disease\n",
    "    * In this study, 70% of people who experienced Non-Angina pain were diagnosed with Heart Disease.  \n",
    "  \n",
    "* So, overall, this study indicates there is a strong positive correlation between experiencing *any* of the pain types mentioned above and being being diagnosed with Heart Disease"
   ]
  },
  {
   "cell_type": "markdown",
   "metadata": {},
   "source": [
    "### <a id=''>3. ST Depression (mm)</a> \n",
    "**Correlation with Diagnosis of Heart Disease: -0.429146**"
   ]
  },
  {
   "cell_type": "code",
   "execution_count": null,
   "metadata": {
    "_kg_hide-input": true
   },
   "outputs": [],
   "source": [
    "plt.subplot(1,2,1)\n",
    "ax1 = sns.distplot(PHD['ST_depression'], kde=False, color='orange')\n",
    "ax1.set_xlabel(\"ST Depression\", fontsize=20)\n",
    "plt.ylim(0,90)\n",
    "second_ax1 = ax1.twinx()\n",
    "second_ax1.yaxis.set_label_position(\"left\")\n",
    "sns.distplot(PHD['ST_depression'], ax=second_ax1, kde=True, hist=False, color='orange')\n",
    "second_ax1.set_yticks([])\n",
    "plt.title(\"Presence of HD\", size=35)\n",
    "plt.ylabel(\"Frequency\", labelpad=40, size=20)\n",
    "\n",
    "plt.subplot(1,2,2)\n",
    "ax0 = sns.distplot(AHD['ST_depression'], kde=False, color='orange')\n",
    "ax0.set_xlabel(\"ST Depression\", fontsize=20)\n",
    "second_ax0 = ax0.twinx()\n",
    "sns.distplot(plot0['ST_depression'], ax=second_ax0, kde=True, hist=False, color='orange')\n",
    "second_ax0.set_yticks([])\n",
    "plt.title(\"Absence of HD\", size=35)\n",
    "\n",
    "fig_size = plt.rcParams[\"figure.figsize\"]\n",
    "fig_size[0] = 22\n",
    "fig_size[1] = 8\n",
    "plt.rcParams[\"figure.figsize\"] = fig_size"
   ]
  },
  {
   "cell_type": "markdown",
   "metadata": {},
   "source": [
    "Looking at this graph, it appears that patients with Heart Disease are more likely to have ST depression values of 0.  However, due to the nature of the graph, it may be difficult to see the relationship between abnormal/normal ST depression levels and Heart Disease.  \n",
    "\n",
    "Let's look at the feature I engineered: 'ST_depressionAB' to get more details."
   ]
  },
  {
   "cell_type": "markdown",
   "metadata": {},
   "source": [
    "****3.1 ST Depression Abnormal v Normal****\n",
    "\n",
    "*Correlation with Diagnosis of Heart Disease: -0.280851*"
   ]
  },
  {
   "cell_type": "code",
   "execution_count": null,
   "metadata": {
    "_kg_hide-input": true
   },
   "outputs": [],
   "source": [
    "plt.subplot(1,2,1)\n",
    "sns.countplot(PHD['ST_depressionAB'], order=[\"Abnormal\", \"Normal\"])\n",
    "plt.title(\"Presence of HD\", size=35)\n",
    "plt.ylabel(\"Frequency\", labelpad=40, size=20)\n",
    "plt.xlabel(\"ST Depression Abnormality\", labelpad=40, size=20)\n",
    "plt.ylim(0, 120)\n",
    "\n",
    "plt.subplot(1,2,2)\n",
    "sns.countplot(AHD['ST_depressionAB'], order=[\"Abnormal\", \"Normal\"])\n",
    "plt.title(\"Absence of HD\", size=35)\n",
    "plt.ylabel(\"    \", labelpad=40, size=20)\n",
    "plt.xlabel(\"ST Depression Abnormality\", labelpad=40, size=20)\n",
    "plt.ylim(0, 120)"
   ]
  },
  {
   "cell_type": "code",
   "execution_count": null,
   "metadata": {
    "_kg_hide-input": true
   },
   "outputs": [],
   "source": [
    "#Abnormal\n",
    "ATot=heart3.loc[heart3['ST_depressionAB']==\"Abnormal\"].count()\n",
    "ATot=pd.DataFrame(ATot)\n",
    "ATot=ATot.iloc[0,0]\n",
    "\n",
    "APHD=AHD.loc[AHD['ST_depressionAB']==\"Abnormal\"].count()\n",
    "APHD=pd.DataFrame(APHD)\n",
    "APHD=APHD.iloc[0,0]\n",
    "\n",
    "AAHD=AHD.loc[AHD['ST_depressionAB']==\"Abnormal\"].count()\n",
    "AAHD=pd.DataFrame(AAHD)\n",
    "AAHD=AAHD.iloc[0,0]\n",
    "\n",
    "ProAAHD=round(100*(AAHD/ATot))\n",
    "ProAPHD=round(100*(APHD/ATot))\n",
    "\n",
    "#Normal\n",
    "NTot=heart3.loc[heart3['ST_depressionAB']==\"Normal\"].count()\n",
    "NTot=pd.DataFrame(NTot)\n",
    "NTot=NTot.iloc[0,0]\n",
    "\n",
    "NPHD=PHD.loc[PHD['ST_depressionAB']==\"Normal\"].count()\n",
    "NPHD=pd.DataFrame(NPHD)\n",
    "NPHD=NPHD.iloc[0,0]\n",
    "\n",
    "NAHD=AHD.loc[AHD['ST_depressionAB']==\"Normal\"].count()\n",
    "NAHD=pd.DataFrame(NAHD)\n",
    "NAHD=NAHD.iloc[0,0]\n",
    "\n",
    "ProNAHD=round(100*(NAHD/NTot))\n",
    "ProNPHD=round(100*(NPHD/NTot))\n",
    "\n",
    "plt.subplot(1,2,1)\n",
    "y = [ProAPHD, ProNPHD]\n",
    "x = [\"Abnormal\", \"Normal\"]\n",
    "width = 1/1.5\n",
    "plt.bar(x, y, width)\n",
    "plt.ylabel(\"Percent Seeking Treatment\", labelpad=40, size=20)\n",
    "plt.xlabel(\"ST Depression\", labelpad=40, size=20)\n",
    "plt.title(\"Presence of HD\", size=35)\n",
    "\n",
    "plt.subplot(1,2,2)\n",
    "y = [ProAAHD, ProNAHD]\n",
    "x = [\"Abnormal\", \"Normal\"]\n",
    "width = 1/1.5\n",
    "plt.bar(x, y, width)\n",
    "plt.xlabel(\"ST Depression\", labelpad=40, size=20)\n",
    "plt.title(\"Absence of HD\", size=35)\n",
    "\n",
    "STN = pd.DataFrame(columns=['Present_HD', 'Absent_HD'], index= [\"Abnormal\", \"Normal\"])\n",
    "STN.loc[\"Abnormal\", \"Present_HD\"]=ProAPHD\n",
    "STN.loc[\"Abnormal\", \"Absent_HD\"]=ProAAHD\n",
    "STN.loc[\"Normal\", \"Present_HD\"]=ProNPHD\n",
    "STN.loc[\"Normal\", \"Absent_HD\"]=ProNAHD\n",
    "\n",
    "print(STN)"
   ]
  },
  {
   "cell_type": "markdown",
   "metadata": {},
   "source": [
    "Overall:\n",
    "* There is a small positive correlation between the Normal ST (0) ST Depressions and a diagnosis of Heart Disease.\n",
    "* It is interesting, and seems counter-intuitiave, that in this study 74% of people who had a *normal* (0 value) ST Depression were diagnosed with Heart Disease."
   ]
  },
  {
   "cell_type": "markdown",
   "metadata": {},
   "source": [
    "### <a id=''>4. Maximum Heart Rate</a> \n",
    "**Correlation with Diagnosis of Heart Disease: 0.419955 **"
   ]
  },
  {
   "cell_type": "code",
   "execution_count": null,
   "metadata": {
    "_kg_hide-input": true
   },
   "outputs": [],
   "source": [
    "plt.subplot(1,2,1)\n",
    "matplotlib.pyplot.boxplot(PHD['max_HR'], widths=0.5, meanline=True, showmeans=True)\n",
    "plt.title(\"Presence of HD\", size=35)\n",
    "plt.ylabel(\"Maximum Heartrate\", labelpad=40, size=20)\n",
    "plt.ylim(65, 210)\n",
    "\n",
    "\n",
    "plt.subplot(1,2,2)\n",
    "matplotlib.pyplot.boxplot(AHD['max_HR'], widths=0.5, meanline=True, showmeans=True)\n",
    "plt.title(\"Absense of HD\", size=35)\n",
    "plt.ylabel(\"Maximum Heartrate\", labelpad=40, size=20)\n",
    "plt.ylim(65, 210)"
   ]
  },
  {
   "cell_type": "code",
   "execution_count": null,
   "metadata": {
    "_kg_hide-input": true
   },
   "outputs": [],
   "source": [
    "print(\"Interquartile range for patients with HD:\", np.percentile(PHD['max_HR'], 75) - np.percentile(PHD['max_HR'], 25))\n",
    "print(\"Interquartile range for patients without HD:\",np.percentile(AHD['max_HR'], 75) - np.percentile(AHD['max_HR'], 25))\n",
    "print(\"23.25/31.0 =\", 23.25/31.0)"
   ]
  },
  {
   "cell_type": "markdown",
   "metadata": {},
   "source": [
    "Overall:\n",
    "* There is a strong positive correlation between (increased) maximum heartrate and diagnosis of Heart Disease\n",
    "    * The mean, median, first quantile, and third quartile are higher for patients diagnosed with HD, compared to those not diagnosed.\n",
    "    * The interquartile range (IR) of patients not diagnosed with heart disease is 25% larger than the IR of patients diagnosed with IR.  However, this difference is not drastic.  "
   ]
  },
  {
   "cell_type": "markdown",
   "metadata": {},
   "source": [
    "### <a id=''>5. Number of Major Vessels Colored by Fluoroscopy </a> \n",
    "**Correlation with Diagnosis of Heart Disease: 0.419955 **"
   ]
  },
  {
   "cell_type": "code",
   "execution_count": null,
   "metadata": {
    "_kg_hide-input": true
   },
   "outputs": [],
   "source": [
    "plt.subplot(1,2,1)\n",
    "sns.countplot(PHD['no_maj_vessels'], order=[0, 1, 2,3,4])\n",
    "plt.title(\"Presence of HD\", size=35)\n",
    "plt.ylabel(\"Frequency\", labelpad=40, size=20)\n",
    "plt.xlabel(\"Number of Major Vessels Colored by Fluoroscopy\", labelpad=40, size=20)\n",
    "\n",
    "\n",
    "plt.subplot(1,2,2)\n",
    "sns.countplot(AHD['no_maj_vessels'],order=[0, 1, 2,3,4])\n",
    "plt.title(\"Absence of HD\", size=35)\n",
    "plt.ylabel(\"    \", labelpad=40, size=20)\n",
    "plt.xlabel(\"Number of Major Vessels Colored by Fluoroscopy\", labelpad=40, size=20)\n"
   ]
  },
  {
   "cell_type": "code",
   "execution_count": null,
   "metadata": {
    "_kg_hide-input": true
   },
   "outputs": [],
   "source": [
    "#0\n",
    "Tot0=heart3.loc[heart3['no_maj_vessels']==0].count()\n",
    "Tot0=pd.DataFrame(Tot0)\n",
    "Tot0=Tot0.iloc[0,0]\n",
    "\n",
    "PHD0=PHD.loc[PHD['no_maj_vessels']==0].count()\n",
    "PHD0=pd.DataFrame(PHD0)\n",
    "PHD0=PHD0.iloc[0,0]\n",
    "\n",
    "AHD0=AHD.loc[AHD['no_maj_vessels']==0].count()\n",
    "AHD0=pd.DataFrame(AHD0)\n",
    "AHD0=AHD0.iloc[0,0]\n",
    "\n",
    "ProPHD0=round(100*(PHD0/Tot0))\n",
    "ProAHD0=round(100*(AHD0/Tot0))\n",
    "\n",
    "#1\n",
    "Tot1=heart3.loc[heart3['no_maj_vessels']==1].count()\n",
    "Tot1=pd.DataFrame(Tot1)\n",
    "Tot1=Tot1.iloc[0,0]\n",
    "\n",
    "PHD1=PHD.loc[PHD['no_maj_vessels']==1].count()\n",
    "PHD1=pd.DataFrame(PHD1)\n",
    "PHD1=PHD1.iloc[0,0]\n",
    "\n",
    "AHD1=AHD.loc[AHD['no_maj_vessels']==1].count()\n",
    "AHD1=pd.DataFrame(AHD1)\n",
    "AHD1=AHD1.iloc[0,0]\n",
    "\n",
    "ProPHD1=round(100*(PHD1/Tot1))\n",
    "ProAHD1=round(100*(AHD1/Tot1))\n",
    "\n",
    "#2\n",
    "Tot2=heart3.loc[heart3['no_maj_vessels']==2].count()\n",
    "Tot2=pd.DataFrame(Tot2)\n",
    "Tot2=Tot2.iloc[0,0]\n",
    "\n",
    "PHD2=PHD.loc[PHD['no_maj_vessels']==2].count()\n",
    "PHD2=pd.DataFrame(PHD2)\n",
    "PHD2=PHD2.iloc[0,0]\n",
    "\n",
    "AHD2=AHD.loc[AHD['no_maj_vessels']==2].count()\n",
    "AHD2=pd.DataFrame(AHD2)\n",
    "AHD2=AHD2.iloc[0,0]\n",
    "\n",
    "ProPHD2=round(100*(PHD2/Tot2))\n",
    "ProAHD2=round(100*(AHD2/Tot2))\n",
    "\n",
    "#3\n",
    "Tot3=heart3.loc[heart3['no_maj_vessels']==3].count()\n",
    "Tot3=pd.DataFrame(Tot3)\n",
    "Tot3=Tot3.iloc[0,0]\n",
    "\n",
    "PHD3=PHD.loc[PHD['no_maj_vessels']==3].count()\n",
    "PHD3=pd.DataFrame(PHD3)\n",
    "PHD3=PHD3.iloc[0,0]\n",
    "\n",
    "AHD3=AHD.loc[AHD['no_maj_vessels']==3].count()\n",
    "AHD3=pd.DataFrame(AHD3)\n",
    "AHD3=AHD3.iloc[0,0]\n",
    "\n",
    "ProPHD3=round(100*(PHD3/Tot3))\n",
    "ProAHD3=round(100*(AHD3/Tot3))\n",
    "\n",
    "#4\n",
    "Tot4=heart3.loc[heart3['no_maj_vessels']==4].count()\n",
    "Tot4=pd.DataFrame(Tot4)\n",
    "Tot4=Tot4.iloc[0,0]\n",
    "\n",
    "PHD4=PHD.loc[PHD['no_maj_vessels']==4].count()\n",
    "PHD4=pd.DataFrame(PHD4)\n",
    "PHD4=PHD4.iloc[0,0]\n",
    "\n",
    "AHD4=AHD.loc[AHD['no_maj_vessels']==4].count()\n",
    "AHD4=pd.DataFrame(AHD4)\n",
    "AHD4=AHD4.iloc[0,0]\n",
    "\n",
    "ProPHD4=round(100*(PHD4/Tot4))\n",
    "ProAHD4=round(100*(AHD4/Tot4))\n",
    "\n",
    "\n",
    "plt.subplot(1,2,1)\n",
    "y = [ProPHD0, ProPHD1, ProPHD2, ProPHD3, ProPHD4]\n",
    "x = [\"0\", \"1\", \"2\", \"3\", \"4\"]\n",
    "width = 1/1.5\n",
    "plt.bar(x, y, width)\n",
    "plt.ylabel(\"Percent Seeking Treatment\", labelpad=40, size=20)\n",
    "plt.xlabel(\"Number of Major Vessels Colored by Flouroscopy\", labelpad=40, size=20)\n",
    "plt.title(\"Presence of HD\", size=35)\n",
    "\n",
    "plt.subplot(1,2,2)\n",
    "y = [ProAHD0, ProAHD1, ProAHD2, ProAHD3, ProAHD4]\n",
    "x = [\"0\", \"1\", \"2\", \"3\", \"4\"]\n",
    "width = 1/1.5\n",
    "plt.bar(x, y, width)\n",
    "plt.xlabel(\"Number of Major Vessels Colored by Flouroscopy\", labelpad=40, size=20)\n",
    "plt.title(\"Absence of HD\", size=35)\n",
    "\n",
    "NMV = pd.DataFrame(columns=['Present_HD', 'Absent_HD'], index= [\"0\", \"1\", \"2\", \"3\", \"4\"])\n",
    "NMV.loc[\"0\", \"Present_HD\"]=ProPHD0\n",
    "NMV.loc[\"0\", \"Absent_HD\"]=ProAHD0\n",
    "NMV.loc[\"1\", \"Present_HD\"]=ProPHD1\n",
    "NMV.loc[\"1\", \"Absent_HD\"]=ProAHD1\n",
    "NMV.loc[\"2\", \"Present_HD\"]=ProPHD2\n",
    "NMV.loc[\"2\", \"Absent_HD\"]=ProAHD2\n",
    "NMV.loc[\"3\", \"Present_HD\"]=ProPHD3\n",
    "NMV.loc[\"3\", \"Absent_HD\"]=ProAHD3\n",
    "NMV.loc[\"4\", \"Present_HD\"]=ProPHD4\n",
    "NMV.loc[\"4\", \"Absent_HD\"]=ProAHD4\n",
    "\n",
    "print(NMV)"
   ]
  },
  {
   "cell_type": "markdown",
   "metadata": {},
   "source": [
    "Overall: \n",
    "* There is a strong positive correlation between heartrate and diagnosis of Heart Disease\n",
    "* A large percentage of patients who have no major vessels colored by flouroscopy are diagnosed with Heart Disease\n",
    "* As the number of major vessels colored by flouroscopy increases, the percentage of patients diagnosed with Heart disease decreases.  \n",
    "    * The one exception to this is the 4 cases in which 4 major vessels were colored.  Specifically, 75% of the patients with 4 colored major vessels had Hear Disease.  As there are 303 patients in the database, however, this exception is unlikely to make a large difference in the machiene learning process.\n"
   ]
  },
  {
   "cell_type": "markdown",
   "metadata": {},
   "source": [
    "### <a id=''>6. Thalium Stress Test Result </a> \n",
    "**Correlation with Diagnosis of Heart Disease: -0.367897**"
   ]
  },
  {
   "cell_type": "code",
   "execution_count": null,
   "metadata": {
    "_kg_hide-input": true
   },
   "outputs": [],
   "source": [
    "plt.subplot(1,2,1)\n",
    "sns.countplot(PHD['thal'], order=[\"Fixed Defect\", \"Normal\", \"Reversible Defect\"])\n",
    "plt.title(\"Presence of HD\", size=35)\n",
    "plt.ylabel(\"Frequency\", labelpad=40, size=20)\n",
    "plt.xlabel(\"Thalium Stress Test Results\", labelpad=40, size=20)\n",
    "plt.ylim(0, 135)\n",
    "\n",
    "plt.subplot(1,2,2)\n",
    "sns.countplot(AHD['thal'], order=[\"Fixed Defect\", \"Normal\", \"Reversible Defect\"])\n",
    "plt.title(\"Absence of HD\", size=35)\n",
    "plt.ylabel(\"    \", labelpad=40, size=20)\n",
    "plt.xlabel(\"Thalium Stress Test Results\", labelpad=40, size=20)\n",
    "plt.ylim(0, 135)"
   ]
  },
  {
   "cell_type": "code",
   "execution_count": null,
   "metadata": {
    "_kg_hide-input": true
   },
   "outputs": [],
   "source": [
    "#Fixed Defect\n",
    "FDTot=heart3.loc[heart3['thal']==\"Fixed Defect\"].count()\n",
    "FDTot=pd.DataFrame(FDTot)\n",
    "FDTot=FDTot.iloc[0,0]\n",
    "\n",
    "FDPHD=PHD.loc[PHD['thal']==\"Fixed Defect\"].count()\n",
    "FDPHD=pd.DataFrame(FDPHD)\n",
    "FDPHD=FDPHD.iloc[0,0]\n",
    "\n",
    "FDAHD=AHD.loc[AHD['thal']==\"Fixed Defect\"].count()\n",
    "FDAHD=pd.DataFrame(FDAHD)\n",
    "FDAHD=FDAHD.iloc[0,0]\n",
    "\n",
    "ProFDAHD=round(100*(FDAHD/FDTot))\n",
    "ProFDPHD=round(100*(FDPHD/FDTot))\n",
    "\n",
    "#Normal\n",
    "NTot=heart3.loc[heart3['thal']==\"Normal\"].count()\n",
    "NTot=pd.DataFrame(NTot)\n",
    "NTot=NTot.iloc[0,0]\n",
    "\n",
    "NPHD=PHD.loc[PHD['thal']==\"Normal\"].count()\n",
    "NPHD=pd.DataFrame(NPHD)\n",
    "NPHD=NPHD.iloc[0,0]\n",
    "\n",
    "NAHD=AHD.loc[AHD['thal']==\"Normal\"].count()\n",
    "NAHD=pd.DataFrame(NAHD)\n",
    "NAHD=NAHD.iloc[0,0]\n",
    "\n",
    "ProNPHD=round(100*(NPHD/NTot))\n",
    "ProNAHD=round(100*(NAHD/NTot))\n",
    "\n",
    "#Reversible Defect\n",
    "RDTot=heart3.loc[heart3['thal']==\"Reversible Defect\"].count()\n",
    "RDTot=pd.DataFrame(RDTot)\n",
    "RDTot=RDTot.iloc[0,0]\n",
    "\n",
    "RDPHD=PHD.loc[PHD['thal']==\"Reversible Defect\"].count()\n",
    "RDPHD=pd.DataFrame(RDPHD)\n",
    "RDPHD=RDPHD.iloc[0,0]\n",
    "\n",
    "RDAHD=AHD.loc[AHD['thal']==\"Reversible Defect\"].count()\n",
    "RDAHD=pd.DataFrame(RDAHD)\n",
    "RDAHD=RDAHD.iloc[0,0]\n",
    "\n",
    "ProRDPHD=round(100*(RDPHD/RDTot))\n",
    "ProRDAHD=round(100*(RDAHD/RDTot))\n",
    "\n",
    "plt.subplot(1,2,1)\n",
    "y = [ProFDPHD, ProNPHD, ProRDPHD]\n",
    "x = [\"Fixed Defect\", \"Normal\", \"Reversible Defect\"]\n",
    "width = 1/1.5\n",
    "plt.bar(x, y, width)\n",
    "plt.ylabel(\"Percent Seeking Treatment\", labelpad=40, size=20)\n",
    "plt.xlabel(\"Thalium Stress Test Results\", labelpad=40, size=20)\n",
    "plt.title(\"Presence of HD\", size=35)\n",
    "\n",
    "plt.subplot(1,2,2)\n",
    "y = [ProFDAHD, ProNAHD, ProRDAHD]\n",
    "x = [\"Fixed Defect\", \"Normal\", \"Reversible Defect\"]\n",
    "width = 1/1.5\n",
    "plt.bar(x, y, width)\n",
    "plt.xlabel(\"Chest Pain Type\", labelpad=40, size=20)\n",
    "plt.title(\"Absence of HD\", size=35)\n",
    "\n",
    "THAL = pd.DataFrame(columns=['Present_HD', 'Absent_HD'], index= [\"Fixed Defect\", \"Normal\", \"Reversible Defect\"])\n",
    "THAL.loc[\"Fixed Defect\", \"Present_HD\"]=ProFDPHD\n",
    "THAL.loc[\"Fixed Defect\", \"Absent_HD\"]=ProFDAHD\n",
    "THAL.loc[\"Normal\", \"Present_HD\"]=ProNPHD\n",
    "THAL.loc[\"Normal\", \"Absent_HD\"]=ProNAHD\n",
    "THAL.loc[\"Reversible Defect\", \"Present_HD\"]=ProRDPHD\n",
    "THAL.loc[\"Reversible Defect\", \"Absent_HD\"]=ProRDAHD\n",
    "\n",
    "print(THAL)"
   ]
  },
  {
   "cell_type": "markdown",
   "metadata": {},
   "source": [
    "Overall:\n",
    "* There is a positive correlation between a normal Thalium Stress Test (TST) and being diagnosed with Heart Disease. \n",
    "    * In this study, 78% of the people with a normal TST were diagnosed with Heart Disease \n",
    "* There is a negative correlation between a Fixed Defect or Reversible Defect TST and being diagnosed with Heart Disease.  \n",
    "    * In this study, 67% of the people with a Fixed Defect TST were not diagnosed with Heart Disease \n",
    "    * In this study, 76% of the people with a Reversible Defect TST were not diagnosed with Heart Disease \n",
    "    \n",
    "* The above results seem counter-intuitiave"
   ]
  },
  {
   "cell_type": "markdown",
   "metadata": {},
   "source": [
    "### <a id=''>7. Slope of the Peak Exercise ST Segment </a> \n",
    "**Correlation with Diagnosis of Heart Disease: 0.343940**"
   ]
  },
  {
   "cell_type": "code",
   "execution_count": null,
   "metadata": {
    "_kg_hide-input": true
   },
   "outputs": [],
   "source": [
    "plt.subplot(1,2,1)\n",
    "sns.countplot(PHD['m_exercise_ST'], order=[\"Upsloping\", \"Downsloping\", \"Flat\"])\n",
    "plt.title(\"Presence of HD\", size=35)\n",
    "plt.ylabel(\"Frequency\", labelpad=40, size=20)\n",
    "plt.xlabel(\"Slope of ST Segment\", labelpad=40, size=20)\n",
    "plt.ylim(0, 110)\n",
    "\n",
    "plt.subplot(1,2,2)\n",
    "sns.countplot(AHD['m_exercise_ST'], order=[\"Upsloping\", \"Downsloping\", \"Flat\"])\n",
    "plt.title(\"Absence of HD\", size=35)\n",
    "plt.ylabel(\"    \", labelpad=40, size=20)\n",
    "plt.xlabel(\"Slope of ST Segment\", labelpad=40, size=20)\n",
    "plt.ylim(0, 110)"
   ]
  },
  {
   "cell_type": "code",
   "execution_count": null,
   "metadata": {
    "_kg_hide-input": true
   },
   "outputs": [],
   "source": [
    "#Upsloping\n",
    "UTot=heart3.loc[heart3['m_exercise_ST']==\"Upsloping\"].count()\n",
    "UTot=pd.DataFrame(UTot)\n",
    "UTot=UTot.iloc[0,0]\n",
    "\n",
    "UPHD=PHD.loc[PHD['m_exercise_ST']==\"Upsloping\"].count()\n",
    "UPHD=pd.DataFrame(UPHD)\n",
    "UPHD=UPHD.iloc[0,0]\n",
    "\n",
    "UAHD=AHD.loc[AHD['m_exercise_ST']==\"Upsloping\"].count()\n",
    "UAHD=pd.DataFrame(UAHD)\n",
    "UAHD=UAHD.iloc[0,0]\n",
    "\n",
    "ProUAHD=round(100*(UAHD/UTot))\n",
    "ProUPHD=round(100*(UPHD/UTot))\n",
    "\n",
    "#Downsloping\n",
    "DTot=heart3.loc[heart3['m_exercise_ST']==\"Downsloping\"].count()\n",
    "DTot=pd.DataFrame(DTot)\n",
    "DTot=DTot.iloc[0,0]\n",
    "\n",
    "DPHD=PHD.loc[PHD['m_exercise_ST']==\"Downsloping\"].count()\n",
    "DPHD=pd.DataFrame(DPHD)\n",
    "DPHD=DPHD.iloc[0,0]\n",
    "\n",
    "DAHD=AHD.loc[AHD['m_exercise_ST']==\"Downsloping\"].count()\n",
    "DAHD=pd.DataFrame(DAHD)\n",
    "DAHD=DAHD.iloc[0,0]\n",
    "\n",
    "ProDAHD=round(100*(DAHD/DTot))\n",
    "ProDPHD=round(100*(DPHD/DTot))\n",
    "\n",
    "#Flat\n",
    "FTot=heart3.loc[heart3['m_exercise_ST']==\"Flat\"].count()\n",
    "FTot=pd.DataFrame(FTot)\n",
    "FTot=FTot.iloc[0,0]\n",
    "\n",
    "FPHD=PHD.loc[PHD['m_exercise_ST']==\"Flat\"].count()\n",
    "FPHD=pd.DataFrame(FPHD)\n",
    "FPHD=FPHD.iloc[0,0]\n",
    "\n",
    "FAHD=AHD.loc[AHD['m_exercise_ST']==\"Flat\"].count()\n",
    "FAHD=pd.DataFrame(FAHD)\n",
    "FAHD=FAHD.iloc[0,0]\n",
    "\n",
    "ProFAHD=round(100*(FAHD/FTot))\n",
    "ProFPHD=round(100*(FPHD/FTot))\n",
    "\n",
    "plt.subplot(1,2,1)\n",
    "y = [ProUPHD, ProDPHD, ProFPHD]\n",
    "x = [\"Upsloping\", \"Flat\", \"Downsloping\"]\n",
    "width = 1/1.5\n",
    "plt.bar(x, y, width)\n",
    "plt.ylabel(\"Percent Seeking Treatment\", labelpad=40, size=20)\n",
    "plt.xlabel(\"Slope Peak ST Segment\", labelpad=40, size=20)\n",
    "plt.title(\"Presence of HD\", size=35)\n",
    "\n",
    "plt.subplot(1,2,2)\n",
    "y = [ProUAHD, ProDAHD, ProFAHD]\n",
    "x = [\"Upsloping\", \"Flat\", \"Downsloping\"]\n",
    "width = 1/1.5\n",
    "plt.bar(x, y, width)\n",
    "plt.xlabel(\"Slope Peak ST Segment\", labelpad=40, size=20)\n",
    "plt.title(\"Absence of HD\", size=35)\n",
    "\n",
    "PST = pd.DataFrame(columns=['Present_HD', 'Absent_HD'], index= [\"Upsloping\", \"Flat\", \"Downsloping\"])\n",
    "PST.loc[\"Upsloping\", \"Present_HD\"]=ProFDPHD\n",
    "PST.loc[\"Upsloping\", \"Absent_HD\"]=ProFDAHD\n",
    "PST.loc[\"Flat\", \"Present_HD\"]=ProNPHD\n",
    "PST.loc[\"Flat\", \"Absent_HD\"]=ProNAHD\n",
    "PST.loc[\"Downsloping\", \"Present_HD\"]=ProRDPHD\n",
    "PST.loc[\"Downsloping\", \"Absent_HD\"]=ProRDAHD\n",
    "\n",
    "print(PST)"
   ]
  },
  {
   "cell_type": "markdown",
   "metadata": {},
   "source": [
    "Overall\n",
    "* There is a positive correlation between a Flat Peak ST Segment and being diagnosed with Heart Disease.  \n",
    "    * In this study, 80% of the people with a Flat Peak ST Segment were diagnosed with Heart Disease \n",
    "* There is a negative correlation between a Upsloping Peak ST Segment and being diagnosed with Heart Disease. \n",
    "    *  In this study, 67% of the people with a Upsloping Peak ST Segment were diagnosed with Heart Disease \n",
    "* There is a negative correlation between a Downsloping Peak ST Segment and being diagnosed with Heart Disease. \n",
    "    *  In this study, 76% of the people with a Downsloping Peak ST Segment were diagnosed with Heart Disease "
   ]
  },
  {
   "cell_type": "markdown",
   "metadata": {},
   "source": [
    "### <a id=''>8. Provider-Identified Gender</a> \n",
    "**Correlation with Diagnosis of Heart Disease: -0.283609**"
   ]
  },
  {
   "cell_type": "code",
   "execution_count": null,
   "metadata": {
    "_kg_hide-input": true
   },
   "outputs": [],
   "source": [
    "plt.subplot(1,2,1)\n",
    "sns.countplot(PHD['sex'], order=[\"Male\", \"Female\"])\n",
    "plt.title(\"Presence of HD\", size=35)\n",
    "plt.ylabel(\"Frequency\", labelpad=40, size=20)\n",
    "plt.xlabel(\"Slope of ST Segment\", labelpad=40, size=20)\n",
    "plt.ylim(0, 120)\n",
    "\n",
    "plt.subplot(1,2,2)\n",
    "sns.countplot(AHD['sex'], order=[\"Male\", \"Female\"])\n",
    "plt.title(\"Absence of HD\", size=35)\n",
    "plt.ylabel(\"    \", labelpad=40, size=20)\n",
    "plt.xlabel(\"Slope of ST Segment\", labelpad=40, size=20)\n",
    "plt.ylim(0, 120)"
   ]
  },
  {
   "cell_type": "markdown",
   "metadata": {},
   "source": [
    "It appears that less females were both diagnosed and not diagnosed with Heart Disease.  However, it is important to remember that less females were included in the study compared to males.  Let's look at the number of males and females diagnosed (and not diagnosed) as their proportions of the whole."
   ]
  },
  {
   "cell_type": "code",
   "execution_count": null,
   "metadata": {
    "_kg_hide-input": true
   },
   "outputs": [],
   "source": [
    "#Male\n",
    "MaleTot=heart3.loc[heart3['sex']==\"Male\"].count()\n",
    "MaleTot=pd.DataFrame(MaleTot)\n",
    "MaleTot=MaleTot.iloc[0,0]\n",
    "\n",
    "MalePHD=PHD.loc[PHD['sex']==\"Male\"].count()\n",
    "MalePHD=pd.DataFrame(MalePHD)\n",
    "MalePHD=MalePHD.iloc[0,0]\n",
    "\n",
    "MaleAHD=AHD.loc[AHD['sex']==\"Male\"].count()\n",
    "MaleAHD=pd.DataFrame(MaleAHD)\n",
    "MaleAHD=MaleAHD.iloc[0,0]\n",
    "\n",
    "ProMalePHD=round(100*(MalePHD/MaleTot))\n",
    "ProMaleAHD=round(100*(MaleAHD/MaleTot))\n",
    "\n",
    "#Female\n",
    "FemaleTot=heart3.loc[heart3['sex']==\"Female\"].count()\n",
    "FemaleTot=pd.DataFrame(FemaleTot)\n",
    "FemaleTot=FemaleTot.iloc[0,0]\n",
    "\n",
    "FemalePHD=PHD.loc[PHD['sex']==\"Female\"].count()\n",
    "FemalePHD=pd.DataFrame(FemalePHD)\n",
    "FemalePHD=FemalePHD.iloc[0,0]\n",
    "\n",
    "FemaleAHD=AHD.loc[AHD['sex']==\"Female\"].count()\n",
    "FemaleAHD=pd.DataFrame(FemaleAHD)\n",
    "FemaleAHD=FemaleAHD.iloc[0,0]\n",
    "\n",
    "ProFemalePHD=100*(FemalePHD/FemaleTot)\n",
    "ProFemaleAHD=100*(FemaleAHD/FemaleTot)\n",
    "\n",
    "plt.subplot(1,2,1)\n",
    "y = [ProMalePHD, ProFemalePHD]\n",
    "x = [\"Percent Males\", \"Percent Females\"]\n",
    "width = 1/1.5\n",
    "plt.bar(x, y, width, color=(\"lightblue\", \"pink\"))\n",
    "plt.ylabel(\"Percent Seeking Treatment\", labelpad=40, size=20)\n",
    "plt.xlabel(\"Sex\", labelpad=40, size=20)\n",
    "plt.title(\"Presence of HD\", size=35)\n",
    "\n",
    "plt.subplot(1,2,2)\n",
    "y = [ProMaleAHD, ProFemaleAHD]\n",
    "x = [\"Percent Males\", \"Percent Females\"]\n",
    "width = 1/1.5\n",
    "plt.bar(x, y, width, color=(\"lightblue\", \"pink\"))\n",
    "plt.xlabel(\"Sex\", labelpad=40, size=20)\n",
    "plt.title(\"Absence of HD\", size=35)\n",
    "\n",
    "MF = pd.DataFrame(columns=['Present_HD', 'Absent_HD'], index= ['Male', 'Female'])\n",
    "MF.loc[\"Male\", \"Present_HD\"]=ProMalePHD\n",
    "MF.loc[\"Male\", \"Absent_HD\"]=ProMaleAHD\n",
    "MF.loc[\"Female\", \"Present_HD\"]=ProFemalePHD\n",
    "MF.loc[\"Female\",\"Absent_HD\"]=ProFemaleAHD\n",
    "\n",
    "print(MF)"
   ]
  },
  {
   "cell_type": "markdown",
   "metadata": {},
   "source": [
    "In this study, heart disease was present in 75% of the females seeking treatment, but only around 45% of males seeking treatment were diagnosed with Heart Disease!\n",
    "\n",
    "Overall:\n",
    "* There appears to be a positive correlation between the Female sex and Heart Disease diagnosis"
   ]
  },
  {
   "cell_type": "markdown",
   "metadata": {},
   "source": [
    "### <a id=''>9. Age (years)</a> \n",
    "**Correlation with Diagnosis of Heart Disease: -0.221476**"
   ]
  },
  {
   "cell_type": "code",
   "execution_count": null,
   "metadata": {
    "_kg_hide-input": true
   },
   "outputs": [],
   "source": [
    "plt.subplot(1,2,1)\n",
    "matplotlib.pyplot.boxplot(PHD['age'], widths=0.5, meanline=True, showmeans=True)\n",
    "plt.title(\"Presence of HD\", size=35)\n",
    "plt.ylabel(\"Age (yrs)\", labelpad=40, size=20)\n",
    "plt.ylim(25, 80)\n",
    "\n",
    "\n",
    "plt.subplot(1,2,2)\n",
    "matplotlib.pyplot.boxplot(AHD['age'], widths=0.5, meanline=True, showmeans=True)\n",
    "plt.title(\"Absense of HD\", size=35)\n",
    "plt.ylabel(\"Age (yrs)\", labelpad=40, size=20)\n",
    "plt.ylim(25, 80)"
   ]
  },
  {
   "cell_type": "code",
   "execution_count": null,
   "metadata": {
    "_kg_hide-input": true
   },
   "outputs": [],
   "source": [
    "print(\"Interquartile range for patients with HD:\", np.percentile(PHD['age'], 75) - np.percentile(PHD['age'], 25))\n",
    "print(\"Interquartile range for patients without HD:\",np.percentile(AHD['age'], 75) - np.percentile(AHD['age'], 25))"
   ]
  },
  {
   "cell_type": "markdown",
   "metadata": {},
   "source": [
    "Overall:\n",
    "* There is a negative correlation between age and a diagnosis of Heart Disease\n",
    "    * The mean, mode, 1st, and 3rd quantiles are lower in those diagnosed with heart disease compared to those not diagnosed.  \n",
    "    * The interquartile range (IR) of those not diagnosed is about 2/3rds the size of the IR of those with Heart Disease\n",
    "    \n"
   ]
  },
  {
   "cell_type": "markdown",
   "metadata": {},
   "source": [
    "### <a id=''>10. Resting Systolic Blood Pressure (mm Hg) </a> \n",
    "**Correlation with Diagnosis of Heart Disease: -0.146269**"
   ]
  },
  {
   "cell_type": "code",
   "execution_count": null,
   "metadata": {
    "_kg_hide-input": true
   },
   "outputs": [],
   "source": [
    "plt.subplot(1,2,1)\n",
    "matplotlib.pyplot.boxplot(PHD['resting_BP'], widths=0.5, meanline=True, showmeans=True)\n",
    "plt.title(\"Presence of HD\", size=35)\n",
    "plt.ylabel(\"Resting Systolic Blood Pressure\", labelpad=40, size=20)\n",
    "plt.ylim(90, 205)\n",
    "\n",
    "\n",
    "plt.subplot(1,2,2)\n",
    "matplotlib.pyplot.boxplot(AHD['resting_BP'], widths=0.5, meanline=True, showmeans=True)\n",
    "plt.title(\"Absense of HD\", size=35)\n",
    "plt.ylabel(\"Resting Systolic Blood Pressure\", labelpad=40, size=20)\n",
    "plt.ylim(90, 205)"
   ]
  },
  {
   "cell_type": "markdown",
   "metadata": {},
   "source": [
    "Overall:\n",
    "* There is a small negative correlation between resting systolic blood pressure and a diagnosis of Heart Disease\n",
    "    * The mean, mode, and 3rd quantiles are lower in those diagnosed with heart disease compared to those not diagnosed. \n",
    "    * This, however, is a low correlation rate, so it's affect on diagnosing Heart Disease is likely minimal."
   ]
  },
  {
   "cell_type": "markdown",
   "metadata": {},
   "source": [
    "### <a id=''>11. Resting EKG Categorical Results</a> \n",
    "**Correlation with Diagnosis of Heart Disease: 0.134874**"
   ]
  },
  {
   "cell_type": "code",
   "execution_count": null,
   "metadata": {
    "_kg_hide-input": true
   },
   "outputs": [],
   "source": [
    "plt.subplot(1,2,1)\n",
    "sns.countplot(PHD['resting_EKG'], order=[\"Normal\", \"Left Ventricular Hypertrophy\", \"ST-T Wave Abnormality\"])\n",
    "plt.title(\"Presence of HD\", size=35)\n",
    "plt.ylabel(\"Frequency\", labelpad=40, size=20)\n",
    "plt.xlabel(\"EKG Results\", labelpad=40, size=20)\n",
    "\n",
    "plt.subplot(1,2,2)\n",
    "sns.countplot(AHD['resting_EKG'], order=[\"Normal\", \"Left Ventricular Hypertrophy\", \"ST-T Wave Abnormality\"])\n",
    "plt.title(\"Absence of HD\", size=35)\n",
    "plt.ylabel(\"    \", labelpad=40, size=20)\n",
    "plt.xlabel(\"EKG Results\", labelpad=40, size=20)"
   ]
  },
  {
   "cell_type": "code",
   "execution_count": null,
   "metadata": {
    "_kg_hide-input": true
   },
   "outputs": [],
   "source": [
    "#Normal\n",
    "NTot=heart3.loc[heart3['resting_EKG']==\"Normal\"].count()\n",
    "NTot=pd.DataFrame(NTot)\n",
    "NTot=NTot.iloc[0,0]\n",
    "\n",
    "NPHD=PHD.loc[PHD['resting_EKG']==\"Normal\"].count()\n",
    "NPHD=pd.DataFrame(NPHD)\n",
    "NPHD=NPHD.iloc[0,0]\n",
    "\n",
    "NAHD=AHD.loc[AHD['resting_EKG']==\"Normal\"].count()\n",
    "NAHD=pd.DataFrame(NAHD)\n",
    "NAHD=NAHD.iloc[0,0]\n",
    "\n",
    "ProNAHD=round(100*(NAHD/NTot))\n",
    "ProNPHD=round(100*(NPHD/NTot))\n",
    "\n",
    "#Left Ventricular Hypertrophy\n",
    "ATot=heart3.loc[heart3['resting_EKG']==\"Left Ventricular Hypertrophy\"].count()\n",
    "ATot=pd.DataFrame(ATot)\n",
    "ATot=ATot.iloc[0,0]\n",
    "\n",
    "APHD=PHD.loc[PHD['resting_EKG']==\"Left Ventricular Hypertrophy\"].count()\n",
    "APHD=pd.DataFrame(APHD)\n",
    "APHD=APHD.iloc[0,0]\n",
    "\n",
    "AAHD=AHD.loc[AHD['resting_EKG']==\"Left Ventricular Hypertrophy\"].count()\n",
    "AAHD=pd.DataFrame(AAHD)\n",
    "AAHD=AAHD.iloc[0,0]\n",
    "\n",
    "ProAAHD=round(100*(AAHD/ATot))\n",
    "ProAPHD=round(100*(APHD/ATot))\n",
    "             \n",
    "#ST-T Wave Abnormality\n",
    "\n",
    "DTot=heart3.loc[heart3['resting_EKG']==\"ST-T Wave Abnormality\"].count()\n",
    "DTot=pd.DataFrame(DTot)\n",
    "DTot=DTot.iloc[0,0]\n",
    "\n",
    "DPHD=PHD.loc[PHD['resting_EKG']==\"ST-T Wave Abnormality\"].count()\n",
    "DPHD=pd.DataFrame(DPHD)\n",
    "DPHD=DPHD.iloc[0,0]\n",
    "\n",
    "DAHD=AHD.loc[AHD['resting_EKG']==\"ST-T Wave Abnormality\"].count()\n",
    "DAHD=pd.DataFrame(DAHD)\n",
    "DAHD=DAHD.iloc[0,0]\n",
    "\n",
    "ProDAHD=round(100*(DAHD/DTot))\n",
    "ProDPHD=round(100*(DPHD/DTot))\n",
    "\n",
    "plt.subplot(1,2,1)\n",
    "y = [ProNPHD, ProAPHD, ProDPHD]\n",
    "x = [\"Normal\",\"Left Ventricular Hypertrophy\",\"ST-T Wave Abnormality\"]\n",
    "width = 1/1.5\n",
    "plt.bar(x, y, width)\n",
    "plt.ylabel(\"Percent Seeking Treatment\", labelpad=40, size=20)\n",
    "plt.xlabel(\"ST Depression\", labelpad=40, size=20)\n",
    "plt.title(\"Presence of HD\", size=35)\n",
    "\n",
    "plt.subplot(1,2,2)\n",
    "y = [ProNAHD, ProAAHD, ProDAHD]\n",
    "x = [\"Normal\",\"Left Ventricular Hypertrophy\",\"ST-T Wave Abnormality\"]\n",
    "width = 1/1.5\n",
    "plt.bar(x, y, width)\n",
    "plt.xlabel(\"ST Depression\", labelpad=40, size=20)\n",
    "plt.title(\"Absence of HD\", size=35)\n",
    "\n",
    "EKG = pd.DataFrame(columns=['Present_HD', 'Absent_HD'])\n",
    "EKG.loc[\"Normal\", \"Present_HD\"]=ProNPHD\n",
    "EKG.loc[\"Normal\", \"Absent_HD\"]=ProNAHD\n",
    "EKG.loc[\"Left Ventricular Hypertrophy\", \"Present_HD\"]=ProAPHD\n",
    "EKG.loc[\"Left Ventricular Hypertrophy\", \"Absent_HD\"]=ProAAHD\n",
    "EKG.loc[\"ST-T Wave Abnormality\", \"Present_HD\"]=ProDPHD\n",
    "EKG.loc[\"ST-T Wave Abnormality\", \"Absent_HD\"]=ProDAHD\n",
    "\n",
    "print(EKG)"
   ]
  },
  {
   "cell_type": "markdown",
   "metadata": {},
   "source": [
    "Overall:\n",
    "* There is a positive small correlation to the prescence of Left Ventricular Hypertrophy and the prescence of Heart Disease.\n",
    "    * In this study, 63% of people with a Left Ventricular Hypertrophy were diagnosed with Heart Disease.\n",
    "* In this study, 75% of people with a ST-T Wave Abnormality were diagnosed with Heart Disease.  However, only 4 people had this result, which does not give it much weight.\n"
   ]
  },
  {
   "cell_type": "markdown",
   "metadata": {},
   "source": [
    "### <a id=''>12. Serum Cholesterol (mg/ dL) </a> \n",
    "**Correlation with Diagnosis of Heart Disease: -0.100950**"
   ]
  },
  {
   "cell_type": "code",
   "execution_count": null,
   "metadata": {
    "_kg_hide-input": true
   },
   "outputs": [],
   "source": [
    "plt.subplot(1,2,1)\n",
    "matplotlib.pyplot.boxplot(PHD['chol'], widths=0.5, meanline=True, showmeans=True)\n",
    "plt.title(\"Presence of HD\", size=35)\n",
    "plt.ylabel(\"Serum Cholesterol\", labelpad=40, size=20)\n",
    "plt.ylim(100, 410)\n",
    "\n",
    "\n",
    "plt.subplot(1,2,2)\n",
    "matplotlib.pyplot.boxplot(AHD['chol'], widths=0.5, meanline=True, showmeans=True)\n",
    "plt.title(\"Absense of HD\", size=35)\n",
    "plt.ylabel(\"Serum Cholesterol\", labelpad=40, size=20)\n",
    "plt.ylim(100, 410)"
   ]
  },
  {
   "cell_type": "markdown",
   "metadata": {},
   "source": [
    "Overall:\n",
    "* There is a very small association between lower serum cholestrol and the presence of Heart Disease.  "
   ]
  },
  {
   "cell_type": "markdown",
   "metadata": {},
   "source": [
    "### <a id=''>13. Fasting Bloodsugar (mmol/ L) </a> \n",
    "**Correlation with Diagnosis of Heart Disease: -0.026826**"
   ]
  },
  {
   "cell_type": "code",
   "execution_count": null,
   "metadata": {
    "_kg_hide-input": true
   },
   "outputs": [],
   "source": [
    "plt.subplot(1,2,1)\n",
    "sns.countplot(PHD['fasting_BS'], order=[\"BS < 120 mg/dl\", \"BS > 120 mg/dl\"])\n",
    "plt.title(\"Presence of HD\", size=35)\n",
    "plt.ylabel(\"Frequency\", labelpad=40, size=20)\n",
    "plt.xlabel(\"Blood Sugar Level\", labelpad=40, size=20)\n",
    "\n",
    "plt.subplot(1,2,2)\n",
    "sns.countplot(AHD['fasting_BS'], order=[\"BS < 120 mg/dl\", \"BS > 120 mg/dl\"])\n",
    "plt.title(\"Absence of HD\", size=35)\n",
    "plt.ylabel(\"    \", labelpad=40, size=20)\n",
    "plt.xlabel(\"Blood Sugar Level\", labelpad=40, size=20)"
   ]
  },
  {
   "cell_type": "markdown",
   "metadata": {},
   "source": [
    "Overall:\n",
    "* There is a negligible correlation between fasting blood sugar and the diagnosis of Heart Disease.  \n",
    "    * This is most likely due to the fact that in both cases (absence or presence of Heart Disease) very few patients had a blood sugar level greater than 120."
   ]
  },
  {
   "cell_type": "markdown",
   "metadata": {},
   "source": [
    "# <a id=''>13. FIN </a> "
   ]
  }
 ],
 "metadata": {
  "kernelspec": {
   "display_name": "Python 3",
   "language": "python",
   "name": "python3"
  },
  "language_info": {
   "codemirror_mode": {
    "name": "ipython",
    "version": 3
   },
   "file_extension": ".py",
   "mimetype": "text/x-python",
   "name": "python",
   "nbconvert_exporter": "python",
   "pygments_lexer": "ipython3",
   "version": "3.7.1"
  }
 },
 "nbformat": 4,
 "nbformat_minor": 1
}
